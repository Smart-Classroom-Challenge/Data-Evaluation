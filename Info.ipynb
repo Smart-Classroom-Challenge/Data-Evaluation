{
 "cells": [
  {
   "cell_type": "markdown",
   "id": "9d84775f",
   "metadata": {},
   "source": [
    "### Klassenzimmer \"Primarklasse_OG1\" / Schulklasse 4a"
   ]
  },
  {
   "cell_type": "markdown",
   "id": "4bed5b22",
   "metadata": {},
   "source": [
    "Stundenplan: <br/><br/>\n",
    "<img src='Studenplan 4a Oben.png' width=500px height=auto>"
   ]
  },
  {
   "cell_type": "markdown",
   "id": "1ea7b869",
   "metadata": {},
   "source": [
    "### Klassenzimmer \"Primarklasse_EG\" / Schulklasse 5a"
   ]
  },
  {
   "cell_type": "markdown",
   "id": "1b34bc58",
   "metadata": {},
   "source": [
    "Stundenplan: <br/><br/>\n",
    "<img src='Stundenplan 5a.png' width=500px height=auto>"
   ]
  },
  {
   "cell_type": "markdown",
   "id": "a3ad8abc",
   "metadata": {},
   "source": [
    "### Klassenzimmer \"oberstufe\" / Verschiedene Klassen"
   ]
  },
  {
   "cell_type": "markdown",
   "id": "1f3eaccc",
   "metadata": {},
   "source": [
    "Stundenplan: <br/> <br/>\n",
    "<img src='Oberstufe.png' width=500px height=auto>\n",
    "\n",
    "\n",
    "Schülerzahlen:\n",
    "- B1: 20\n",
    "- B2: 13\n",
    "- B3: 21\n",
    "- E1: 10\n",
    "- E2: 16\n",
    "- E3: 14"
   ]
  }
 ],
 "metadata": {
  "language_info": {
   "name": "python"
  },
  "orig_nbformat": 4
 },
 "nbformat": 4,
 "nbformat_minor": 2
}
