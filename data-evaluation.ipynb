{
 "cells": [
  {
   "cell_type": "markdown",
   "id": "178b7d2a",
   "metadata": {},
   "source": [
    "# Smart Classroom Data Evaluation"
   ]
  },
  {
   "cell_type": "code",
   "execution_count": 1,
   "id": "67d741ce",
   "metadata": {},
   "outputs": [],
   "source": [
    "import configparser"
   ]
  },
  {
   "cell_type": "code",
   "execution_count": 2,
   "id": "ff60b7d9",
   "metadata": {},
   "outputs": [],
   "source": [
    "config = configparser.ConfigParser()\n",
    "config.read('config.ini')\n",
    "\n",
    "db_username = config['DATABASE']['USERNAME']\n",
    "db_password = config['DATABASE']['PASSWORD']\n",
    "db_hostname = config['DATABASE']['HOSTNAME']"
   ]
  }
 ],
 "metadata": {
  "kernelspec": {
   "display_name": "\"Python/Mu (mu_venv-38-20220227-125324)\"",
   "language": "python",
   "name": "mu_venv-38-20220227-125324"
  },
  "language_info": {
   "codemirror_mode": {
    "name": "ipython",
    "version": 3
   },
   "file_extension": ".py",
   "mimetype": "text/x-python",
   "name": "python",
   "nbconvert_exporter": "python",
   "pygments_lexer": "ipython3",
   "version": "3.8.11"
  }
 },
 "nbformat": 4,
 "nbformat_minor": 5
}
