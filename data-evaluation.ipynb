{
 "cells": [
  {
   "cell_type": "markdown",
   "id": "178b7d2a",
   "metadata": {},
   "source": [
    "# Smart Classroom Data Evaluation"
   ]
  },
  {
   "cell_type": "markdown",
   "id": "5b393e60",
   "metadata": {},
   "source": [
    "## Setup"
   ]
  },
  {
   "cell_type": "code",
   "execution_count": 1,
   "id": "67d741ce",
   "metadata": {},
   "outputs": [],
   "source": [
    "import psycopg2\n",
    "import configparser"
   ]
  },
  {
   "cell_type": "code",
   "execution_count": 2,
   "id": "ff60b7d9",
   "metadata": {},
   "outputs": [],
   "source": [
    "config = configparser.ConfigParser()\n",
    "config.read('config.ini')\n",
    "\n",
    "db_hostname = config['DATABASE']['HOSTNAME']\n",
    "db_database = config['DATABASE']['DATABASE']\n",
    "db_username = config['DATABASE']['USERNAME']\n",
    "db_password = config['DATABASE']['PASSWORD']"
   ]
  },
  {
   "cell_type": "markdown",
   "id": "d4a927df",
   "metadata": {},
   "source": [
    "## Test connection"
   ]
  },
  {
   "cell_type": "code",
   "execution_count": 3,
   "id": "d0bfaecd",
   "metadata": {},
   "outputs": [
    {
     "name": "stdout",
     "output_type": "stream",
     "text": [
      "PostgreSQL database version:\n",
      "('PostgreSQL 14.2 on x86_64-pc-linux-musl, compiled by gcc (Alpine 10.3.1_git20211027) 10.3.1 20211027, 64-bit',)\n"
     ]
    }
   ],
   "source": [
    "conn = psycopg2.connect(\n",
    "    host=db_hostname,\n",
    "    database=db_database,\n",
    "    user=db_username,\n",
    "    password=db_password)\n",
    "\n",
    "\n",
    "cur = conn.cursor()\n",
    "        \n",
    "print('PostgreSQL database version:')\n",
    "cur.execute('SELECT version()')\n",
    "print(cur.fetchone())\n",
    "\n",
    "cur.close()\n",
    "conn.close()\n"
   ]
  }
 ],
 "metadata": {
  "interpreter": {
   "hash": "f46e390ebb1ddf5491fd89d9ad6ad07bce30ede12b9a11821d34b748251f6923"
  },
  "kernelspec": {
   "display_name": "Python 3.9.7 ('base')",
   "language": "python",
   "name": "python3"
  },
  "language_info": {
   "codemirror_mode": {
    "name": "ipython",
    "version": 3
   },
   "file_extension": ".py",
   "mimetype": "text/x-python",
   "name": "python",
   "nbconvert_exporter": "python",
   "pygments_lexer": "ipython3",
   "version": "3.9.7"
  }
 },
 "nbformat": 4,
 "nbformat_minor": 5
}
