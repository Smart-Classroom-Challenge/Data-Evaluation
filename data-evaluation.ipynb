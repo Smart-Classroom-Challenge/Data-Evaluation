{
 "cells": [
  {
   "cell_type": "markdown",
   "id": "178b7d2a",
   "metadata": {},
   "source": [
    "# Smart Classroom Data Evaluation"
   ]
  },
  {
   "cell_type": "markdown",
   "id": "5b393e60",
   "metadata": {},
   "source": [
    "## Setup"
   ]
  },
  {
   "cell_type": "code",
   "execution_count": 1,
   "id": "67d741ce",
   "metadata": {},
   "outputs": [],
   "source": [
    "import psycopg2\n",
    "import configparser\n",
    "import pandas as pd\n",
    "import matplotlib.pyplot as plt"
   ]
  },
  {
   "cell_type": "code",
   "execution_count": 2,
   "id": "ff60b7d9",
   "metadata": {},
   "outputs": [],
   "source": [
    "config = configparser.ConfigParser()\n",
    "config.read('config.ini')\n",
    "\n",
    "db_hostname = config['DATABASE']['HOSTNAME']\n",
    "db_database = config['DATABASE']['DATABASE']\n",
    "db_username = config['DATABASE']['USERNAME']\n",
    "db_password = config['DATABASE']['PASSWORD']"
   ]
  },
  {
   "cell_type": "markdown",
   "id": "d4a927df",
   "metadata": {},
   "source": [
    "### Test connection"
   ]
  },
  {
   "cell_type": "code",
   "execution_count": 3,
   "id": "d0bfaecd",
   "metadata": {},
   "outputs": [
    {
     "name": "stdout",
     "output_type": "stream",
     "text": [
      "PostgreSQL database version:\n",
      "('PostgreSQL 14.2 on x86_64-pc-linux-musl, compiled by gcc (Alpine 10.3.1_git20211027) 10.3.1 20211027, 64-bit',)\n"
     ]
    }
   ],
   "source": [
    "conn = psycopg2.connect(\n",
    "    host=db_hostname,\n",
    "    database=db_database,\n",
    "    user=db_username,\n",
    "    password=db_password)\n",
    "\n",
    "\n",
    "cur = conn.cursor()\n",
    "        \n",
    "print('PostgreSQL database version:')\n",
    "cur.execute('SELECT version()')\n",
    "print(cur.fetchone())\n",
    "\n",
    "cur.close()\n",
    "conn.close()"
   ]
  },
  {
   "cell_type": "markdown",
   "id": "f19b6aeb",
   "metadata": {},
   "source": [
    "### Setup connection"
   ]
  },
  {
   "cell_type": "code",
   "execution_count": 4,
   "id": "2fc0d5ad",
   "metadata": {},
   "outputs": [],
   "source": [
    "conn = psycopg2.connect(\n",
    "    host=db_hostname,\n",
    "    database=db_database,\n",
    "    user=db_username,\n",
    "    password=db_password)\n",
    "\n",
    "cur = conn.cursor()"
   ]
  },
  {
   "cell_type": "markdown",
   "id": "1ae2b16e",
   "metadata": {},
   "source": [
    "## Evaluation"
   ]
  },
  {
   "cell_type": "markdown",
   "id": "9fc0cb0d",
   "metadata": {},
   "source": [
    "### Forschungsfragen"
   ]
  },
  {
   "cell_type": "markdown",
   "id": "0a24d757",
   "metadata": {},
   "source": [
    "Wie ist der Zusammenhang zwischen Luftqualität und Frequenz bzw. Dauer des Lüftens?"
   ]
  },
  {
   "cell_type": "markdown",
   "id": "87144b48",
   "metadata": {},
   "source": [
    "--- Markdown ---"
   ]
  },
  {
   "cell_type": "code",
   "execution_count": 5,
   "id": "990723f2",
   "metadata": {},
   "outputs": [
    {
     "data": {
      "text/plain": [
       "[<matplotlib.lines.Line2D at 0x7fba72fe7850>]"
      ]
     },
     "execution_count": 5,
     "metadata": {},
     "output_type": "execute_result"
    },
    {
     "data": {
      "image/png": "[encoded data removed]",
      "text/plain": [
       "<Figure size 432x288 with 1 Axes>"
      ]
     },
     "metadata": {
      "needs_background": "light"
     },
     "output_type": "display_data"
    }
   ],
   "source": [
    "cur.execute('SELECT \"time\", \"temperature\" FROM api_measurement WHERE fk_measurement_station_id = 1 ORDER BY 1 DESC LIMIT 1000;')\n",
    "data = cur.fetchall()\n",
    "data = pd.DataFrame(data)\n",
    "\n",
    "plt.plot(data[0], data[1])"
   ]
  },
  {
   "cell_type": "markdown",
   "id": "cedf5007",
   "metadata": {},
   "source": [
    "Lässt sich anhand der Luftqualität etwas über die Anzahl Personen im Raum aussagen?"
   ]
  },
  {
   "cell_type": "markdown",
   "id": "1b34bc58",
   "metadata": {},
   "source": [
    "--- Markdown ---"
   ]
  },
  {
   "cell_type": "code",
   "execution_count": null,
   "id": "0e5b173d",
   "metadata": {},
   "outputs": [],
   "source": []
  },
  {
   "cell_type": "markdown",
   "id": "2243c534",
   "metadata": {},
   "source": [
    "Lässt sich aus den Messdaten der optimale Zeitpunkt zum Lüften (laufend) ermitteln?"
   ]
  },
  {
   "cell_type": "markdown",
   "id": "9a1bd90c",
   "metadata": {},
   "source": [
    "--- Markdown ---"
   ]
  },
  {
   "cell_type": "code",
   "execution_count": null,
   "id": "76228504",
   "metadata": {},
   "outputs": [],
   "source": []
  },
  {
   "cell_type": "markdown",
   "id": "07f5fc5f",
   "metadata": {},
   "source": [
    "Welche weiteren Erkenntnisse lassen sich aus den erfassten Messdaten ableiten?"
   ]
  },
  {
   "cell_type": "markdown",
   "id": "72bcf273",
   "metadata": {},
   "source": [
    "--- Markdown ---"
   ]
  },
  {
   "cell_type": "code",
   "execution_count": null,
   "id": "2bc6f9e2",
   "metadata": {},
   "outputs": [],
   "source": []
  },
  {
   "cell_type": "markdown",
   "id": "499eeb78",
   "metadata": {},
   "source": [
    "Welche Erkenntnisse von Dritten können Sie allenfalls bestätigen/widerlegen?"
   ]
  },
  {
   "cell_type": "markdown",
   "id": "de175c4f",
   "metadata": {},
   "source": [
    "--- Markdown ---"
   ]
  },
  {
   "cell_type": "code",
   "execution_count": null,
   "id": "9eb149e8",
   "metadata": {},
   "outputs": [],
   "source": []
  },
  {
   "cell_type": "markdown",
   "id": "e1b7be2b",
   "metadata": {},
   "source": [
    "# Close Connection"
   ]
  },
  {
   "cell_type": "code",
   "execution_count": 6,
   "id": "fb566420",
   "metadata": {},
   "outputs": [],
   "source": [
    "cur.close()\n",
    "conn.close()"
   ]
  }
 ],
 "metadata": {
  "interpreter": {
   "hash": "f46e390ebb1ddf5491fd89d9ad6ad07bce30ede12b9a11821d34b748251f6923"
  },
  "kernelspec": {
   "display_name": "Python 3.9.7 ('base')",
   "language": "python",
   "name": "python3"
  },
  "language_info": {
   "codemirror_mode": {
    "name": "ipython",
    "version": 3
   },
   "file_extension": ".py",
   "mimetype": "text/x-python",
   "name": "python",
   "nbconvert_exporter": "python",
   "pygments_lexer": "ipython3",
   "version": "3.9.7"
  }
 },
 "nbformat": 4,
 "nbformat_minor": 5
}
