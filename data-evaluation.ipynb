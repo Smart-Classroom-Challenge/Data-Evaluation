{
 "cells": [
  {
   "cell_type": "markdown",
   "id": "178b7d2a",
   "metadata": {},
   "source": [
    "# Smart Classroom Data Evaluation"
   ]
  },
  {
   "cell_type": "markdown",
   "id": "5b393e60",
   "metadata": {},
   "source": [
    "## Setup"
   ]
  },
  {
   "cell_type": "code",
   "execution_count": 22,
   "id": "67d741ce",
   "metadata": {},
   "outputs": [],
   "source": [
    "import psycopg2\n",
    "import configparser\n",
    "import pandas as pd\n",
    "import matplotlib.pyplot as plt"
   ]
  },
  {
   "cell_type": "code",
   "execution_count": 23,
   "id": "ff60b7d9",
   "metadata": {},
   "outputs": [],
   "source": [
    "config = configparser.ConfigParser()\n",
    "config.read('config.ini')\n",
    "\n",
    "db_hostname = config['DATABASE']['HOSTNAME']\n",
    "db_database = config['DATABASE']['DATABASE']\n",
    "db_username = config['DATABASE']['USERNAME']\n",
    "db_password = config['DATABASE']['PASSWORD']"
   ]
  },
  {
   "cell_type": "markdown",
   "id": "d4a927df",
   "metadata": {},
   "source": [
    "### Test connection"
   ]
  },
  {
   "cell_type": "code",
   "execution_count": 30,
   "id": "d0bfaecd",
   "metadata": {},
   "outputs": [
    {
     "name": "stdout",
     "output_type": "stream",
     "text": [
      "PostgreSQL database version:\n",
      "('PostgreSQL 14.2 on x86_64-pc-linux-musl, compiled by gcc (Alpine 10.3.1_git20211027) 10.3.1 20211027, 64-bit',)\n"
     ]
    }
   ],
   "source": [
    "conn = psycopg2.connect(\n",
    "    host=db_hostname,\n",
    "    database=db_database,\n",
    "    user=db_username,\n",
    "    password=db_password)\n",
    "\n",
    "\n",
    "cur = conn.cursor()\n",
    "        \n",
    "print('PostgreSQL database version:')\n",
    "cur.execute('SELECT version()')\n",
    "print(cur.fetchone())\n",
    "\n",
    "cur.close()\n",
    "conn.close()"
   ]
  },
  {
   "cell_type": "markdown",
   "id": "f19b6aeb",
   "metadata": {},
   "source": [
    "### Setup connection"
   ]
  },
  {
   "cell_type": "code",
   "execution_count": 40,
   "id": "2fc0d5ad",
   "metadata": {},
   "outputs": [],
   "source": [
    "conn = psycopg2.connect(\n",
    "    host=db_hostname,\n",
    "    database=db_database,\n",
    "    user=db_username,\n",
    "    password=db_password)\n",
    "\n",
    "cur = conn.cursor()"
   ]
  },
  {
   "cell_type": "markdown",
   "id": "1ae2b16e",
   "metadata": {},
   "source": [
    "## Evaluation"
   ]
  },
  {
   "cell_type": "markdown",
   "id": "9fc0cb0d",
   "metadata": {},
   "source": [
    "### Forschungsfragen"
   ]
  },
  {
   "cell_type": "markdown",
   "id": "0a24d757",
   "metadata": {},
   "source": [
    "Wie ist der Zusammenhang zwischen Luftqualität und Frequenz bzw. Dauer des Lüftens?"
   ]
  },
  {
   "cell_type": "markdown",
   "id": "87144b48",
   "metadata": {},
   "source": [
    "--- Markdown ---"
   ]
  },
  {
   "cell_type": "code",
   "execution_count": 29,
   "id": "990723f2",
   "metadata": {},
   "outputs": [
    {
     "ename": "InFailedSqlTransaction",
     "evalue": "current transaction is aborted, commands ignored until end of transaction block\n",
     "output_type": "error",
     "traceback": [
      "\u001b[1;31m---------------------------------------------------------------------------\u001b[0m",
      "\u001b[1;31mInFailedSqlTransaction\u001b[0m                    Traceback (most recent call last)",
      "\u001b[1;32m~\\AppData\\Local\\Temp/ipykernel_20624/215719012.py\u001b[0m in \u001b[0;36m<module>\u001b[1;34m\u001b[0m\n\u001b[1;32m----> 1\u001b[1;33m \u001b[0mcur\u001b[0m\u001b[1;33m.\u001b[0m\u001b[0mexecute\u001b[0m\u001b[1;33m(\u001b[0m\u001b[1;34m'SELECT \"time\", \"temperature\" FROM api_measurement WHERE fk_measurement_station_id = 1 ORDER BY 1 DESC LIMIT 1000;'\u001b[0m\u001b[1;33m)\u001b[0m\u001b[1;33m\u001b[0m\u001b[1;33m\u001b[0m\u001b[0m\n\u001b[0m\u001b[0;32m      2\u001b[0m \u001b[0mdata\u001b[0m \u001b[1;33m=\u001b[0m \u001b[0mcur\u001b[0m\u001b[1;33m.\u001b[0m\u001b[0mfetchall\u001b[0m\u001b[1;33m(\u001b[0m\u001b[1;33m)\u001b[0m\u001b[1;33m\u001b[0m\u001b[1;33m\u001b[0m\u001b[0m\n\u001b[0;32m      3\u001b[0m \u001b[0mdata\u001b[0m \u001b[1;33m=\u001b[0m \u001b[0mpd\u001b[0m\u001b[1;33m.\u001b[0m\u001b[0mDataFrame\u001b[0m\u001b[1;33m(\u001b[0m\u001b[0mdata\u001b[0m\u001b[1;33m)\u001b[0m\u001b[1;33m\u001b[0m\u001b[1;33m\u001b[0m\u001b[0m\n\u001b[0;32m      4\u001b[0m \u001b[1;33m\u001b[0m\u001b[0m\n\u001b[0;32m      5\u001b[0m \u001b[0mplt\u001b[0m\u001b[1;33m.\u001b[0m\u001b[0mplot\u001b[0m\u001b[1;33m(\u001b[0m\u001b[0mdata\u001b[0m\u001b[1;33m[\u001b[0m\u001b[1;36m0\u001b[0m\u001b[1;33m]\u001b[0m\u001b[1;33m,\u001b[0m \u001b[0mdata\u001b[0m\u001b[1;33m[\u001b[0m\u001b[1;36m1\u001b[0m\u001b[1;33m]\u001b[0m\u001b[1;33m)\u001b[0m\u001b[1;33m\u001b[0m\u001b[1;33m\u001b[0m\u001b[0m\n",
      "\u001b[1;31mInFailedSqlTransaction\u001b[0m: current transaction is aborted, commands ignored until end of transaction block\n"
     ]
    }
   ],
   "source": [
    "cur.execute('SELECT \"time\", \"temperature\" FROM api_measurement WHERE fk_measurement_station_id = 1 ORDER BY 1 DESC LIMIT 1000;')\n",
    "data = cur.fetchall()\n",
    "data = pd.DataFrame(data)\n",
    "\n",
    "plt.plot(data[0], data[1])"
   ]
  },
  {
   "cell_type": "markdown",
   "id": "cedf5007",
   "metadata": {},
   "source": [
    "Lässt sich anhand der Luftqualität etwas über die Anzahl Personen im Raum aussagen?"
   ]
  },
  {
   "cell_type": "markdown",
   "id": "1b34bc58",
   "metadata": {},
   "source": [
    "--- Markdown ---"
   ]
  },
  {
   "cell_type": "code",
   "execution_count": 46,
   "id": "0e5b173d",
   "metadata": {},
   "outputs": [
    {
     "name": "stdout",
     "output_type": "stream",
     "text": [
      "<class 'pandas.core.frame.DataFrame'>\n",
      "        id                             time    co2  temperature  humidity  \\\n",
      "0  1079932 2022-05-04 16:26:02.376172+00:00  686.0        24.23     41.14   \n",
      "1  1079929 2022-05-04 16:25:57.256677+00:00  686.0        24.20     41.10   \n",
      "2  1079926 2022-05-04 16:25:52.156485+00:00  685.0        24.20     41.13   \n",
      "3  1079923 2022-05-04 16:25:47.082088+00:00  685.0        24.20     41.14   \n",
      "4  1079920 2022-05-04 16:25:42.035983+00:00  685.0        24.17     41.16   \n",
      "\n",
      "                       insert_time  fk_measurement_station_id    light motion  \n",
      "0 2022-05-04 16:26:02.528575+00:00                          1  46496.0  False  \n",
      "1 2022-05-04 16:25:57.413309+00:00                          1  46480.0  False  \n",
      "2 2022-05-04 16:25:52.330661+00:00                          1  46464.0  False  \n",
      "3 2022-05-04 16:25:47.238756+00:00                          1  46448.0  False  \n",
      "4 2022-05-04 16:25:42.182766+00:00                          1  46512.0  False  \n"
     ]
    }
   ],
   "source": [
    "import psycopg2, pandas\n",
    "\n",
    "con = psycopg2.connect(\n",
    "    host=db_hostname,\n",
    "    database=db_database,\n",
    "    user=db_username,\n",
    "    password=db_password)\n",
    "\n",
    "\n",
    "\n",
    "\n",
    "sql = \"\"\"\n",
    "select * from api_measurement where fk_measurement_station_id = 1 order by 1 desc limit 6000;\n",
    "\"\"\"\n",
    "\n",
    "d = pandas.read_sql_query(sql,con)\n",
    "\n",
    "con.close()\n",
    "print(pandas.DataFrame.head(d))"
   ]
  },
  {
   "cell_type": "markdown",
   "id": "2243c534",
   "metadata": {},
   "source": [
    "Lässt sich aus den Messdaten der optimale Zeitpunkt zum Lüften (laufend) ermitteln?"
   ]
  },
  {
   "cell_type": "markdown",
   "id": "9a1bd90c",
   "metadata": {},
   "source": [
    "--- Markdown ---"
   ]
  },
  {
   "cell_type": "code",
   "execution_count": null,
   "id": "76228504",
   "metadata": {},
   "outputs": [],
   "source": []
  },
  {
   "cell_type": "markdown",
   "id": "07f5fc5f",
   "metadata": {},
   "source": [
    "Welche weiteren Erkenntnisse lassen sich aus den erfassten Messdaten ableiten?"
   ]
  },
  {
   "cell_type": "markdown",
   "id": "72bcf273",
   "metadata": {},
   "source": [
    "--- Markdown ---"
   ]
  },
  {
   "cell_type": "code",
   "execution_count": null,
   "id": "2bc6f9e2",
   "metadata": {},
   "outputs": [],
   "source": []
  },
  {
   "cell_type": "markdown",
   "id": "499eeb78",
   "metadata": {},
   "source": [
    "Welche Erkenntnisse von Dritten können Sie allenfalls bestätigen/widerlegen?"
   ]
  },
  {
   "cell_type": "markdown",
   "id": "de175c4f",
   "metadata": {},
   "source": [
    "--- Markdown ---"
   ]
  },
  {
   "cell_type": "code",
   "execution_count": null,
   "id": "9eb149e8",
   "metadata": {},
   "outputs": [],
   "source": []
  },
  {
   "cell_type": "markdown",
   "id": "e1b7be2b",
   "metadata": {},
   "source": [
    "# Close Connection"
   ]
  },
  {
   "cell_type": "code",
   "execution_count": 6,
   "id": "fb566420",
   "metadata": {},
   "outputs": [],
   "source": [
    "cur.close()\n",
    "conn.close()"
   ]
  }
 ],
 "metadata": {
  "interpreter": {
   "hash": "9cf0739fae8debe0439d178814c658702f2f4f3a78a44571612d5d52379a0d2f"
  },
  "kernelspec": {
   "display_name": "Python 3.10.2 64-bit",
   "language": "python",
   "name": "python3"
  },
  "language_info": {
   "codemirror_mode": {
    "name": "ipython",
    "version": 3
   },
   "file_extension": ".py",
   "mimetype": "text/x-python",
   "name": "python",
   "nbconvert_exporter": "python",
   "pygments_lexer": "ipython3",
   "version": "3.10.2"
  }
 },
 "nbformat": 4,
 "nbformat_minor": 5
}
