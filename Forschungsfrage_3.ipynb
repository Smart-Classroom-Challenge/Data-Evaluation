{
 "cells": [
  {
   "cell_type": "markdown",
   "metadata": {},
   "source": [
    "### Setup"
   ]
  },
  {
   "cell_type": "code",
   "execution_count": 1,
   "metadata": {},
   "outputs": [],
   "source": [
    "import lib\n",
    "import numpy as np\n",
    "import pandas as pd\n",
    "import matplotlib.pyplot as plt \n",
    "\n",
    "from datetime import datetime\n",
    "\n",
    "l = lib.Offload()"
   ]
  },
  {
   "cell_type": "code",
   "execution_count": 8,
   "metadata": {},
   "outputs": [],
   "source": [
    "r = 347.18846135204086 # mg/person, from Forschungsfrage 2"
   ]
  },
  {
   "cell_type": "code",
   "execution_count": 2,
   "metadata": {},
   "outputs": [],
   "source": [
    "%matplotlib qt"
   ]
  },
  {
   "cell_type": "markdown",
   "metadata": {},
   "source": [
    "### Predicting the timeframe before we hit a critical co2 level based on volume, class size and CO2 start level"
   ]
  },
  {
   "cell_type": "code",
   "execution_count": 9,
   "metadata": {
    "collapsed": false,
    "pycharm": {
     "name": "#%%\n"
    }
   },
   "outputs": [
    {
     "name": "stdout",
     "output_type": "stream",
     "text": [
      "time to reach critical CO2: 14.139556625740529 minutes\n"
     ]
    }
   ],
   "source": [
    "room_volume = 100 # m3\n",
    "C_ppm_current = 400 # ppm\n",
    "C_ppm_critical = 1_000 # ppm\n",
    "persons = 22 # persons in class\n",
    "\n",
    "time = ((C_ppm_critical - C_ppm_current) * 1.8 * room_volume) / (persons * r)\n",
    "print(\"time to reach critical CO2:\", time, \"minutes\")"
   ]
  },
  {
   "cell_type": "markdown",
   "metadata": {},
   "source": [
    "#### Predicting how long it takes to reach bad air quality"
   ]
  },
  {
   "cell_type": "code",
   "execution_count": 10,
   "metadata": {},
   "outputs": [
    {
     "name": "stdout",
     "output_type": "stream",
     "text": [
      "Minuten bis schlechte Luft im unteren Primarzimmer: 31.16627605201322\n",
      "Minuten bis schlechte Luft im oberen Primarzimmer: 45.741465684270615\n",
      "Minuten bis schlechte Luft in der Oberstufe für 10 Kinder: 62.74286857106103\n",
      "Minuten bis schlechte Luft in der Oberstufe für 15 Kinder: 41.828579047374014\n",
      "Minuten bis schlechte Luft in der Oberstufe für 20 Kinder: 31.371434285530515\n"
     ]
    }
   ],
   "source": [
    "def time_to_lüften(persons, room_volume):\n",
    "    # startwert 400 ppm (gut gelüftet)\n",
    "    # zielwert 1000 ppm (kritisch)\n",
    "    return (600 * 1.8 * room_volume) / (persons * r)\n",
    "\n",
    "print(f\"Minuten bis schlechte Luft im unteren Primarzimmer: {time_to_lüften(21, 210.4)}\")\n",
    "print(f\"Minuten bis schlechte Luft im oberen Primarzimmer: {time_to_lüften(22, 323.5)}\")\n",
    "print(f\"Minuten bis schlechte Luft in der Oberstufe für 10 Kinder: {time_to_lüften(10, 201.7)}\")\n",
    "print(f\"Minuten bis schlechte Luft in der Oberstufe für 15 Kinder: {time_to_lüften(15, 201.7)}\")\n",
    "print(f\"Minuten bis schlechte Luft in der Oberstufe für 20 Kinder: {time_to_lüften(20, 201.7)}\")"
   ]
  }
 ],
 "metadata": {
  "interpreter": {
   "hash": "7736e98da0f332c9be716203bcc97ce67e6b1814a14899e24320e62fca1d43bb"
  },
  "kernelspec": {
   "display_name": "Python 3.10.2 ('.venv': venv)",
   "language": "python",
   "name": "python3"
  },
  "language_info": {
   "codemirror_mode": {
    "name": "ipython",
    "version": 3
   },
   "file_extension": ".py",
   "mimetype": "text/x-python",
   "name": "python",
   "nbconvert_exporter": "python",
   "pygments_lexer": "ipython3",
   "version": "3.10.2"
  },
  "orig_nbformat": 4,
  "vscode": {
   "interpreter": {
    "hash": "f46e390ebb1ddf5491fd89d9ad6ad07bce30ede12b9a11821d34b748251f6923"
   }
  }
 },
 "nbformat": 4,
 "nbformat_minor": 2
}
