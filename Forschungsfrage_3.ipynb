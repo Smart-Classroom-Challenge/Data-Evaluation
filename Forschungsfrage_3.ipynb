{
 "cells": [
  {
   "cell_type": "markdown",
   "metadata": {},
   "source": [
    "### Setup"
   ]
  },
  {
   "cell_type": "code",
   "execution_count": 1,
   "metadata": {},
   "outputs": [],
   "source": [
    "import lib\n",
    "import numpy as np\n",
    "import pandas as pd\n",
    "import matplotlib.pyplot as plt \n",
    "\n",
    "from datetime import datetime\n",
    "\n",
    "l = lib.Offload()"
   ]
  },
  {
   "cell_type": "code",
   "execution_count": 2,
   "metadata": {},
   "outputs": [],
   "source": [
    "stundenplan_primar_OG1 = [\n",
    "    # week offset, (hour_start, minute_start), (hour_start, minute_start), people\n",
    "    (0, ( 7, 35), ( 8, 00), 22),\n",
    "    (0, ( 8,  5), ( 8, 50), 22),\n",
    "    (0, ( 8, 55), ( 9, 40), 22),\n",
    "    (0, (13, 30), (14, 15), 11),\n",
    "    (0, (14, 20), (15,  5), 11),\n",
    "    (0, (15, 20), (16,  5), 11),\n",
    "\n",
    "    (1, ( 7, 35), ( 8, 00), 22),\n",
    "    (1, ( 8,  5), ( 8, 50), 22),\n",
    "    (1, ( 8, 55), ( 9, 40), 22),\n",
    "    (1, (10, 00), (10, 45), 22),\n",
    "    (1, (10, 50), (11, 35), 22),\n",
    "    (1, (13, 30), (14, 15), 11),\n",
    "    (1, (14, 20), (15,  5), 11),\n",
    "    (1, (15, 20), (16,  5), 11),\n",
    "\n",
    "    (2, ( 7, 35), ( 8, 00), 22),\n",
    "    (2, ( 8,  5), ( 8, 50), 22),\n",
    "    (2, (10, 00), (10, 45), 11),\n",
    "    (2, (10, 50), (11, 35), 11),\n",
    "\n",
    "    (3, ( 7, 35), ( 8, 00), 22),\n",
    "    (3, ( 8,  5), ( 8, 50), 22),\n",
    "    (3, ( 8, 55), ( 9, 40), 22),\n",
    "    (3, (10, 00), (10, 45), 22),\n",
    "    (3, (13, 30), (14, 15), 22),\n",
    "    (3, (14, 20), (15,  5), 22),\n",
    "    (3, (15, 20), (16,  5), 22),\n",
    "\n",
    "    (4, ( 7, 35), ( 8, 00), 22),\n",
    "    (4, ( 8,  5), ( 8, 50), 11),\n",
    "    (4, ( 8, 55), ( 9, 40), 11),\n",
    "    (4, (10, 00), (10, 45), 11),\n",
    "    (4, (10, 50), (11, 35), 11),\n",
    "]"
   ]
  },
  {
   "cell_type": "code",
   "execution_count": 3,
   "metadata": {},
   "outputs": [],
   "source": [
    "stundenplan_primar_EG = [\n",
    "    # week offset, (hour_start, minute_start), (hour_start, minute_start), people\n",
    "    (0, ( 7, 35), ( 8, 00), 21),\n",
    "    (0, ( 8,  5), ( 8, 50), 21),\n",
    "    (0, ( 8, 55), ( 9, 40), 21),\n",
    "    (0, (10, 00), (10, 45), 21),\n",
    "    (0, (10, 50), (11, 35), 21),\n",
    "\n",
    "    (1, ( 7, 35), ( 8, 00), 21),\n",
    "    (1, ( 8,  5), ( 8, 50), 21),\n",
    "    (1, ( 8, 55), ( 9, 40), 21),\n",
    "    (1, (10, 00), (10, 45), 21),\n",
    "    (1, (13, 30), (14, 15), 11),\n",
    "    (1, (14, 20), (15,  5), 11),\n",
    "    (1, (15, 20), (16,  5), 11),\n",
    "\n",
    "    (2, ( 7, 35), ( 8, 00), 21),\n",
    "    (2, ( 8,  5), ( 8, 50), 21),\n",
    "    (2, ( 8, 55), ( 9, 40), 21),\n",
    "    (2, (10, 00), (10, 45), 21),\n",
    "    (2, (10, 50), (11, 35), 21),\n",
    "\n",
    "    (3, ( 7, 35), ( 8, 00), 21),\n",
    "    (3, ( 8,  5), ( 8, 50), 11),\n",
    "    (3, ( 8, 55), ( 9, 40), 11),\n",
    "    (3, (10, 00), (10, 45), 11),\n",
    "    (3, (10, 50), (11, 35), 11),\n",
    "    (3, (13, 30), (14, 15), 11),\n",
    "    (3, (14, 20), (15,  5), 11),\n",
    "    (3, (15, 20), (16,  5), 11),\n",
    "\n",
    "    (4, ( 7, 35), ( 8, 00), 21),\n",
    "    (4, ( 8,  5), ( 8, 50), 21),\n",
    "    (4, (10, 00), (10, 45), 21),\n",
    "    (4, (10, 50), (11, 35), 21),\n",
    "]"
   ]
  },
  {
   "cell_type": "code",
   "execution_count": 4,
   "metadata": {},
   "outputs": [],
   "source": [
    "stundenplan_oberstufe = [\n",
    "    # week offset, (hour_start, minute_start), (hour_start, minute_start), people\n",
    "    (0, ( 8, 55), ( 9, 40), 10),\n",
    "    (0, (10, 00), (10, 45), 20),\n",
    "    (0, (10, 50), (11, 35), 20),\n",
    "\n",
    "    (1, ( 8,  5), ( 8, 50), 16),\n",
    "    (1, ( 8, 55), ( 9, 40), 10),\n",
    "    (1, (10, 00), (10, 45), 10),\n",
    "    (1, (10, 50), (11, 35), 21),\n",
    "    (1, (12, 30), (13, 15), 10),\n",
    "    \n",
    "    (2, ( 8,  5), ( 8, 50), 20),\n",
    "    (2, ( 8, 55), ( 9, 40), 10),\n",
    "    (2, (10, 00), (10, 45), 16),\n",
    "    (2, (10, 50), (11, 35), 16),\n",
    "\n",
    "    (3, ( 7, 15), ( 8, 00), 20),\n",
    "    (3, ( 8,  5), ( 8, 50), 20),\n",
    "    (3, (10, 00), (10, 45), 13),\n",
    "    (3, (10, 50), (11, 35), 13),\n",
    "    (3, (13, 30), (14, 15), 16),\n",
    "    (3, (14, 20), (15,  5), 16),\n",
    "\n",
    "    (4, (12, 30), (13, 15), 12),\n",
    "    (4, (13, 30), (14, 15), 13),\n",
    "    (4, (14, 20), (15,  5), 10),\n",
    "    (4, (15, 20), (16,  5), 14),\n",
    "]"
   ]
  },
  {
   "cell_type": "markdown",
   "id": "2243c534",
   "metadata": {},
   "source": [
    "### Lässt sich aus den Messdaten der optimale Zeitpunkt zum Lüften (laufend) ermitteln?"
   ]
  },
  {
   "cell_type": "code",
   "execution_count": 5,
   "id": "90deb61b",
   "metadata": {},
   "outputs": [],
   "source": [
    "data = l.get_measurement_for_timetable(\"Primarklasse_OG1\", stundenplan_primar_OG1)"
   ]
  },
  {
   "cell_type": "code",
   "execution_count": 6,
   "id": "0b69a61d",
   "metadata": {},
   "outputs": [
    {
     "data": {
      "image/png": "[encoded data removed]",
      "text/plain": [
       "<Figure size 432x288 with 1 Axes>"
      ]
     },
     "metadata": {
      "needs_background": "light"
     },
     "output_type": "display_data"
    }
   ],
   "source": [
    "# für andere räume wiederholen\n",
    "\n",
    "data[\"time_5min\"] = data[\"time\"].dt.round(\"5min\")\n",
    "min_max = data.groupby('time_5min', as_index=False)[['co2', 'time', 'People']].agg(['min', 'max'])\n",
    "# min und max people wird immer gleich sein, da die 5 minuten zeitfenster immer auf eine lektion fallen\n",
    "min_max.columns = ['min_co2', 'max_co2', 'min_time', 'max_time', 'min_people', 'max_people']\n",
    "\n",
    "# filter time frames, where min is after max # eg es wurde gelüftet\n",
    "min_max = min_max[min_max.min_time < min_max.max_time]\n",
    "\n",
    "diff = (min_max[\"max_co2\"] - min_max[\"min_co2\"]).astype(float)/min_max[\"max_people\"] * 323 # m^3\n",
    "diff = diff[diff < 4000]\n",
    "diff.hist(bins=50)\n",
    "plt.show()"
   ]
  },
  {
   "cell_type": "code",
   "execution_count": 7,
   "id": "f35b09f0",
   "metadata": {},
   "outputs": [
    {
     "name": "stdout",
     "output_type": "stream",
     "text": [
      "On average 1023.3871029960135 ppm of CO2 is emitted per person per m^3 in the Primarklasse OG1\n"
     ]
    }
   ],
   "source": [
    "print(f\"On average {np.mean(diff)} ppm of CO2 is emitted per person per m^3 in the Primarklasse OG1\")"
   ]
  },
  {
   "cell_type": "code",
   "execution_count": 8,
   "id": "e38990a7",
   "metadata": {},
   "outputs": [],
   "source": [
    "data = l.get_measurement_for_timetable(\"Primarklasse_EG\", stundenplan_primar_EG)"
   ]
  },
  {
   "cell_type": "code",
   "execution_count": 9,
   "id": "3e4ea051",
   "metadata": {},
   "outputs": [
    {
     "data": {
      "text/plain": [
       "<AxesSubplot:>"
      ]
     },
     "execution_count": 9,
     "metadata": {},
     "output_type": "execute_result"
    },
    {
     "data": {
      "image/png": "[encoded data removed]",
      "text/plain": [
       "<Figure size 432x288 with 1 Axes>"
      ]
     },
     "metadata": {
      "needs_background": "light"
     },
     "output_type": "display_data"
    }
   ],
   "source": [
    "# für andere räume wiederholen\n",
    "\n",
    "data[\"time_5min\"] = data[\"time\"].dt.round(\"5min\")\n",
    "min_max = data.groupby('time_5min', as_index=False)[['co2', 'time', 'People']].agg(['min', 'max'])\n",
    "# min und max people wird immer gleich sein, da die 5 minuten zeitfenster immer auf eine lektion fallen\n",
    "min_max.columns = ['min_co2', 'max_co2', 'min_time', 'max_time', 'min_people', 'max_people']\n",
    "\n",
    "# filter time frames, where min is after max # eg es wurde gelüftet\n",
    "min_max = min_max[min_max.min_time < min_max.max_time]\n",
    "\n",
    "diff = (min_max[\"max_co2\"] - min_max[\"min_co2\"]).astype(float)/min_max[\"max_people\"] * 210 # m^3\n",
    "diff = diff[diff < 4000]\n",
    "diff.hist(bins=50)"
   ]
  },
  {
   "cell_type": "code",
   "execution_count": 10,
   "id": "132fdde9",
   "metadata": {},
   "outputs": [
    {
     "name": "stdout",
     "output_type": "stream",
     "text": [
      "On average 1051.6428939680359 ppm of CO2 is emitted per person per m^3 in the Primarklasse EG\n"
     ]
    }
   ],
   "source": [
    "print(f\"On average {np.mean(diff)} ppm of CO2 is emitted per person per m^3 in the Primarklasse EG\")"
   ]
  },
  {
   "cell_type": "code",
   "execution_count": 11,
   "id": "9162599e",
   "metadata": {},
   "outputs": [],
   "source": [
    "data = l.get_measurement_for_timetable(\"oberstufe\", stundenplan_oberstufe)"
   ]
  },
  {
   "cell_type": "code",
   "execution_count": 12,
   "id": "f6ff4bc6",
   "metadata": {},
   "outputs": [
    {
     "data": {
      "text/plain": [
       "<AxesSubplot:>"
      ]
     },
     "execution_count": 12,
     "metadata": {},
     "output_type": "execute_result"
    },
    {
     "data": {
      "image/png": "[encoded data removed]",
      "text/plain": [
       "<Figure size 432x288 with 1 Axes>"
      ]
     },
     "metadata": {
      "needs_background": "light"
     },
     "output_type": "display_data"
    }
   ],
   "source": [
    "# für andere räume wiederholen\n",
    "\n",
    "data[\"time_5min\"] = data[\"time\"].dt.round(\"5min\")\n",
    "min_max = data.groupby('time_5min', as_index=False)[['co2', 'time', 'People']].agg(['min', 'max'])\n",
    "# min und max people wird immer gleich sein, da die 5 minuten zeitfenster immer auf eine lektion fallen\n",
    "min_max.columns = ['min_co2', 'max_co2', 'min_time', 'max_time', 'min_people', 'max_people']\n",
    "\n",
    "# filter time frames, where min is after max # eg es wurde gelüftet\n",
    "min_max = min_max[min_max.min_time < min_max.max_time]\n",
    "\n",
    "diff = (min_max[\"max_co2\"] - min_max[\"min_co2\"]).astype(float)/min_max[\"max_people\"] * 202 # m^3\n",
    "diff = diff[diff < 2000]\n",
    "diff.hist(bins=50)"
   ]
  },
  {
   "cell_type": "code",
   "execution_count": 13,
   "id": "82b9726a",
   "metadata": {},
   "outputs": [
    {
     "name": "stdout",
     "output_type": "stream",
     "text": [
      "On average 368.59974358974324 ppm of CO2 is emitted per person per m^3 in the Oberstufe\n"
     ]
    }
   ],
   "source": [
    "print(f\"On average {np.mean(diff)} ppm of CO2 is emitted per person per m^3 in the Oberstufe\")"
   ]
  },
  {
   "cell_type": "markdown",
   "id": "d9b44165",
   "metadata": {},
   "source": []
  },
  {
   "cell_type": "code",
   "execution_count": 14,
   "id": "76228504",
   "metadata": {},
   "outputs": [
    {
     "name": "stdout",
     "output_type": "stream",
     "text": [
      "1011.0\n",
      "2022-05-02T12:59:45.540150000\n"
     ]
    },
    {
     "ename": "TypeError",
     "evalue": "descriptor 'timestamp' for 'datetime.datetime' objects doesn't apply to a 'type' object",
     "output_type": "error",
     "traceback": [
      "\u001b[0;31m---------------------------------------------------------------------------\u001b[0m",
      "\u001b[0;31mTypeError\u001b[0m                                 Traceback (most recent call last)",
      "\u001b[0;32m/var/folders/l3/rl43cxg95q9dgp35dpn4hlgw0000gn/T/ipykernel_50653/1582782149.py\u001b[0m in \u001b[0;36m<module>\u001b[0;34m\u001b[0m\n\u001b[1;32m     22\u001b[0m \u001b[0mprint\u001b[0m\u001b[0;34m(\u001b[0m\u001b[0;34m(\u001b[0m\u001b[0mmax_entry_m\u001b[0m\u001b[0;34m[\u001b[0m\u001b[0;34m'time'\u001b[0m\u001b[0;34m]\u001b[0m\u001b[0;34m.\u001b[0m\u001b[0mvalues\u001b[0m\u001b[0;34m[\u001b[0m\u001b[0;36m0\u001b[0m\u001b[0;34m]\u001b[0m\u001b[0;34m)\u001b[0m\u001b[0;34m)\u001b[0m\u001b[0;34m\u001b[0m\u001b[0;34m\u001b[0m\u001b[0m\n\u001b[1;32m     23\u001b[0m \u001b[0mdatatime\u001b[0m \u001b[0;34m=\u001b[0m \u001b[0mmax_entry_m\u001b[0m\u001b[0;34m[\u001b[0m\u001b[0;34m'time'\u001b[0m\u001b[0;34m]\u001b[0m\u001b[0;34m.\u001b[0m\u001b[0mvalues\u001b[0m\u001b[0;34m[\u001b[0m\u001b[0;36m0\u001b[0m\u001b[0;34m]\u001b[0m\u001b[0;34m\u001b[0m\u001b[0;34m\u001b[0m\u001b[0m\n\u001b[0;32m---> 24\u001b[0;31m \u001b[0mprint\u001b[0m\u001b[0;34m(\u001b[0m\u001b[0mdatetime\u001b[0m\u001b[0;34m.\u001b[0m\u001b[0mtimestamp\u001b[0m\u001b[0;34m(\u001b[0m\u001b[0mdatetime\u001b[0m\u001b[0;34m)\u001b[0m\u001b[0;34m)\u001b[0m\u001b[0;34m\u001b[0m\u001b[0;34m\u001b[0m\u001b[0m\n\u001b[0m\u001b[1;32m     25\u001b[0m \u001b[0mMonday_05_02\u001b[0m\u001b[0;34m.\u001b[0m\u001b[0mquery\u001b[0m\u001b[0;34m(\u001b[0m\u001b[0;34mf\"time == '{pd.to_datetime(max_entry_m['time'].values[0])}'\"\u001b[0m\u001b[0;34m)\u001b[0m\u001b[0;34m\u001b[0m\u001b[0;34m\u001b[0m\u001b[0m\n",
      "\u001b[0;31mTypeError\u001b[0m: descriptor 'timestamp' for 'datetime.datetime' objects doesn't apply to a 'type' object"
     ]
    }
   ],
   "source": [
    "# psdeudo:\n",
    "# Select time, max(co2) from Primarklasse_OG1 where time > '2020-05-03 08:00:00' and time < '2020-05-03 17:30:00'\n",
    "# Select time, min(Co2) from Primarklasse_OG1 where in between (time_from 30 min before previous querry) and (time_to previous query)\n",
    "from datetime import datetime\n",
    "\n",
    "Monday_05_02 = l.get_measurement(name = \"Primarklasse_OG1\", startDate = \"2022-05-02 08:00:00\", endDate = \"2022-05-02 18:30:00\")\n",
    "Tuesday_05_03 = l.get_measurement(name = \"Primarklasse_OG1\", startDate = \"2022-05-03 08:00:00\", endDate = \"2022-05-03 18:30:00\")\n",
    "Wendsday_05_04 = l.get_measurement(name = \"Primarklasse_OG1\", startDate = \"2022-05-04 08:00:00\", endDate = \"2022-05-04 18:30:00\")\n",
    "Thursday_05_05 = l.get_measurement(name = \"Primarklasse_OG1\", startDate = \"2022-05-05 08:00:00\", endDate = \"2022-05-05 18:30:00\")\n",
    "Firday_05_06 = l.get_measurement(name = \"Primarklasse_OG1\", startDate = \"2022-05-06 08:00:00\", endDate = \"2022-05-06 18:30:00\")\n",
    "\n",
    "column = Monday_05_02[\"co2\"]\n",
    "\n",
    "print(Monday_05_02['co2'].max())\n",
    "\n",
    "max_entry_m = Monday_05_02.query(f\"co2 == {Monday_05_02['co2'].max()}\")\n",
    "max_entry_t = Tuesday_05_03.query(f\"co2 == {Tuesday_05_03['co2'].max()}\")\n",
    "max_entry_w =Wendsday_05_04.query(f\"co2 == {Wendsday_05_04['co2'].max()}\")\n",
    "max_entry_t =Thursday_05_05.query(f\"co2 == {Thursday_05_05['co2'].max()}\")\n",
    "max_entry_f =Firday_05_06.query(f\"co2 == {Firday_05_06['co2'].max()}\")\n",
    "\n",
    "print((max_entry_m['time'].values[0]))\n",
    "datatime = max_entry_m['time'].values[0]\n",
    "print(datetime.timestamp(datetime))\n",
    "Monday_05_02.query(f\"time == '{pd.to_datetime(max_entry_m['time'].values[0])}'\")"
   ]
  }
 ],
 "metadata": {
  "kernelspec": {
   "display_name": "Python 3.9.7 ('base')",
   "language": "python",
   "name": "python3"
  },
  "language_info": {
   "codemirror_mode": {
    "name": "ipython",
    "version": 3
   },
   "file_extension": ".py",
   "mimetype": "text/x-python",
   "name": "python",
   "nbconvert_exporter": "python",
   "pygments_lexer": "ipython3",
   "version": "3.9.7"
  },
  "orig_nbformat": 4,
  "vscode": {
   "interpreter": {
    "hash": "f46e390ebb1ddf5491fd89d9ad6ad07bce30ede12b9a11821d34b748251f6923"
   }
  }
 },
 "nbformat": 4,
 "nbformat_minor": 2
}
