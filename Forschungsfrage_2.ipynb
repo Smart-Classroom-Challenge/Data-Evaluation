{
 "cells": [
  {
   "cell_type": "markdown",
   "metadata": {},
   "source": [
    "### Setup"
   ]
  },
  {
   "cell_type": "code",
   "execution_count": 57,
   "metadata": {},
   "outputs": [],
   "source": [
    "import lib\n",
    "import matplotlib.pyplot as plt \n",
    "import matplotlib.dates as mdates\n",
    "import seaborn as sns\n",
    "import pandas as pd\n",
    "\n",
    "from datetime import datetime, timedelta\n",
    "\n",
    "l = lib.Offload()"
   ]
  },
  {
   "cell_type": "markdown",
   "id": "cedf5007",
   "metadata": {},
   "source": [
    "### Lässt sich anhand der Luftqualität etwas über die Anzahl Personen im Raum aussagen?"
   ]
  },
  {
   "cell_type": "markdown",
   "source": [
    "## CO2 level over complete measuring time\n",
    "In buckets of 5 minutes, get information about the CO2 level in the classrooms over the complete measurement time."
   ],
   "metadata": {
    "collapsed": false
   }
  },
  {
   "cell_type": "code",
   "execution_count": 2,
   "metadata": {},
   "outputs": [
    {
     "data": {
      "text/plain": "                            ts  co2_mean  co2_mean_diff  co2_median  \\\n0    2022-04-22 23:55:00+02:00   1098.40            NaN      1098.0   \n1    2022-04-23 00:00:00+02:00   1099.55           1.15      1098.5   \n2    2022-04-23 00:05:00+02:00   1096.64          -2.91      1097.0   \n3    2022-04-23 00:10:00+02:00   1098.12           1.48      1098.0   \n4    2022-04-23 00:15:00+02:00   1096.36          -1.76      1098.0   \n...                        ...       ...            ...         ...   \n5252 2022-05-14 23:05:00+02:00   1037.03           5.40      1037.0   \n5253 2022-05-14 23:10:00+02:00   1031.64          -5.39      1032.0   \n5254 2022-05-14 23:15:00+02:00   1028.08          -3.56      1027.0   \n5255 2022-05-14 23:20:00+02:00   1031.43           3.35      1032.0   \n5256 2022-05-14 23:25:00+02:00   1028.79          -2.64      1029.0   \n\n      co2_median_diff  \n0                 NaN  \n1                 0.5  \n2                -1.5  \n3                 1.0  \n4                 0.0  \n...               ...  \n5252              5.0  \n5253             -5.0  \n5254             -5.0  \n5255              5.0  \n5256             -3.0  \n\n[5257 rows x 5 columns]",
      "text/html": "<div>\n<style scoped>\n    .dataframe tbody tr th:only-of-type {\n        vertical-align: middle;\n    }\n\n    .dataframe tbody tr th {\n        vertical-align: top;\n    }\n\n    .dataframe thead th {\n        text-align: right;\n    }\n</style>\n<table border=\"1\" class=\"dataframe\">\n  <thead>\n    <tr style=\"text-align: right;\">\n      <th></th>\n      <th>ts</th>\n      <th>co2_mean</th>\n      <th>co2_mean_diff</th>\n      <th>co2_median</th>\n      <th>co2_median_diff</th>\n    </tr>\n  </thead>\n  <tbody>\n    <tr>\n      <th>0</th>\n      <td>2022-04-22 23:55:00+02:00</td>\n      <td>1098.40</td>\n      <td>NaN</td>\n      <td>1098.0</td>\n      <td>NaN</td>\n    </tr>\n    <tr>\n      <th>1</th>\n      <td>2022-04-23 00:00:00+02:00</td>\n      <td>1099.55</td>\n      <td>1.15</td>\n      <td>1098.5</td>\n      <td>0.5</td>\n    </tr>\n    <tr>\n      <th>2</th>\n      <td>2022-04-23 00:05:00+02:00</td>\n      <td>1096.64</td>\n      <td>-2.91</td>\n      <td>1097.0</td>\n      <td>-1.5</td>\n    </tr>\n    <tr>\n      <th>3</th>\n      <td>2022-04-23 00:10:00+02:00</td>\n      <td>1098.12</td>\n      <td>1.48</td>\n      <td>1098.0</td>\n      <td>1.0</td>\n    </tr>\n    <tr>\n      <th>4</th>\n      <td>2022-04-23 00:15:00+02:00</td>\n      <td>1096.36</td>\n      <td>-1.76</td>\n      <td>1098.0</td>\n      <td>0.0</td>\n    </tr>\n    <tr>\n      <th>...</th>\n      <td>...</td>\n      <td>...</td>\n      <td>...</td>\n      <td>...</td>\n      <td>...</td>\n    </tr>\n    <tr>\n      <th>5252</th>\n      <td>2022-05-14 23:05:00+02:00</td>\n      <td>1037.03</td>\n      <td>5.40</td>\n      <td>1037.0</td>\n      <td>5.0</td>\n    </tr>\n    <tr>\n      <th>5253</th>\n      <td>2022-05-14 23:10:00+02:00</td>\n      <td>1031.64</td>\n      <td>-5.39</td>\n      <td>1032.0</td>\n      <td>-5.0</td>\n    </tr>\n    <tr>\n      <th>5254</th>\n      <td>2022-05-14 23:15:00+02:00</td>\n      <td>1028.08</td>\n      <td>-3.56</td>\n      <td>1027.0</td>\n      <td>-5.0</td>\n    </tr>\n    <tr>\n      <th>5255</th>\n      <td>2022-05-14 23:20:00+02:00</td>\n      <td>1031.43</td>\n      <td>3.35</td>\n      <td>1032.0</td>\n      <td>5.0</td>\n    </tr>\n    <tr>\n      <th>5256</th>\n      <td>2022-05-14 23:25:00+02:00</td>\n      <td>1028.79</td>\n      <td>-2.64</td>\n      <td>1029.0</td>\n      <td>-3.0</td>\n    </tr>\n  </tbody>\n</table>\n<p>5257 rows × 5 columns</p>\n</div>"
     },
     "execution_count": 2,
     "metadata": {},
     "output_type": "execute_result"
    }
   ],
   "source": [
    "co2_buckets_primar_eg_full = l.get_timebuckets_with_diff(\"Primarklasse_EG\", datetime.utcfromtimestamp(0), datetime.now())\n",
    "co2_buckets_primar_eg_full"
   ]
  },
  {
   "cell_type": "markdown",
   "source": [
    "## CO2 level during lessons\n",
    "In buckets of 5 minutes, get information about the CO2 level in the classrooms, during lessons that where given.\n",
    "\n",
    "For this analysis, we do not look at the room `Oberstufe`, as it is a multi-functional room (sometimes used for music lessons) and we know less reliably how many people where there during each lesson."
   ],
   "metadata": {
    "collapsed": false
   }
  },
  {
   "cell_type": "code",
   "execution_count": 4,
   "metadata": {},
   "outputs": [
    {
     "data": {
      "text/plain": "                          ts  co2_mean co2_mean_diff  co2_median  \\\n0  2022-04-25 07:35:00+02:00    876.12           NaN       804.0   \n1  2022-04-25 07:40:00+02:00    794.53        -81.59       830.0   \n2  2022-04-25 07:45:00+02:00    994.19        199.66      1007.0   \n3  2022-04-25 07:50:00+02:00   1060.48         66.29      1050.5   \n4  2022-04-25 07:55:00+02:00   1185.90        125.42      1165.0   \n..                       ...       ...           ...         ...   \n4  2022-05-13 11:10:00+02:00    925.25        -12.55       940.0   \n5  2022-05-13 11:15:00+02:00   1000.81         75.56      1005.0   \n6  2022-05-13 11:20:00+02:00    933.20        -67.61       911.0   \n7  2022-05-13 11:25:00+02:00    944.86         11.66       952.0   \n8  2022-05-13 11:30:00+02:00    898.78        -46.08       894.0   \n\n   co2_median_diff  lesson_uuid  people  \n0              NaN            0      21  \n1             26.0            0      21  \n2            177.0            0      21  \n3             43.5            0      21  \n4            114.5            0      21  \n..             ...          ...     ...  \n4             -7.0           70      21  \n5             65.0           70      21  \n6            -94.0           70      21  \n7             41.0           70      21  \n8            -58.0           70      21  \n\n[578 rows x 7 columns]",
      "text/html": "<div>\n<style scoped>\n    .dataframe tbody tr th:only-of-type {\n        vertical-align: middle;\n    }\n\n    .dataframe tbody tr th {\n        vertical-align: top;\n    }\n\n    .dataframe thead th {\n        text-align: right;\n    }\n</style>\n<table border=\"1\" class=\"dataframe\">\n  <thead>\n    <tr style=\"text-align: right;\">\n      <th></th>\n      <th>ts</th>\n      <th>co2_mean</th>\n      <th>co2_mean_diff</th>\n      <th>co2_median</th>\n      <th>co2_median_diff</th>\n      <th>lesson_uuid</th>\n      <th>people</th>\n    </tr>\n  </thead>\n  <tbody>\n    <tr>\n      <th>0</th>\n      <td>2022-04-25 07:35:00+02:00</td>\n      <td>876.12</td>\n      <td>NaN</td>\n      <td>804.0</td>\n      <td>NaN</td>\n      <td>0</td>\n      <td>21</td>\n    </tr>\n    <tr>\n      <th>1</th>\n      <td>2022-04-25 07:40:00+02:00</td>\n      <td>794.53</td>\n      <td>-81.59</td>\n      <td>830.0</td>\n      <td>26.0</td>\n      <td>0</td>\n      <td>21</td>\n    </tr>\n    <tr>\n      <th>2</th>\n      <td>2022-04-25 07:45:00+02:00</td>\n      <td>994.19</td>\n      <td>199.66</td>\n      <td>1007.0</td>\n      <td>177.0</td>\n      <td>0</td>\n      <td>21</td>\n    </tr>\n    <tr>\n      <th>3</th>\n      <td>2022-04-25 07:50:00+02:00</td>\n      <td>1060.48</td>\n      <td>66.29</td>\n      <td>1050.5</td>\n      <td>43.5</td>\n      <td>0</td>\n      <td>21</td>\n    </tr>\n    <tr>\n      <th>4</th>\n      <td>2022-04-25 07:55:00+02:00</td>\n      <td>1185.90</td>\n      <td>125.42</td>\n      <td>1165.0</td>\n      <td>114.5</td>\n      <td>0</td>\n      <td>21</td>\n    </tr>\n    <tr>\n      <th>...</th>\n      <td>...</td>\n      <td>...</td>\n      <td>...</td>\n      <td>...</td>\n      <td>...</td>\n      <td>...</td>\n      <td>...</td>\n    </tr>\n    <tr>\n      <th>4</th>\n      <td>2022-05-13 11:10:00+02:00</td>\n      <td>925.25</td>\n      <td>-12.55</td>\n      <td>940.0</td>\n      <td>-7.0</td>\n      <td>70</td>\n      <td>21</td>\n    </tr>\n    <tr>\n      <th>5</th>\n      <td>2022-05-13 11:15:00+02:00</td>\n      <td>1000.81</td>\n      <td>75.56</td>\n      <td>1005.0</td>\n      <td>65.0</td>\n      <td>70</td>\n      <td>21</td>\n    </tr>\n    <tr>\n      <th>6</th>\n      <td>2022-05-13 11:20:00+02:00</td>\n      <td>933.20</td>\n      <td>-67.61</td>\n      <td>911.0</td>\n      <td>-94.0</td>\n      <td>70</td>\n      <td>21</td>\n    </tr>\n    <tr>\n      <th>7</th>\n      <td>2022-05-13 11:25:00+02:00</td>\n      <td>944.86</td>\n      <td>11.66</td>\n      <td>952.0</td>\n      <td>41.0</td>\n      <td>70</td>\n      <td>21</td>\n    </tr>\n    <tr>\n      <th>8</th>\n      <td>2022-05-13 11:30:00+02:00</td>\n      <td>898.78</td>\n      <td>-46.08</td>\n      <td>894.0</td>\n      <td>-58.0</td>\n      <td>70</td>\n      <td>21</td>\n    </tr>\n  </tbody>\n</table>\n<p>578 rows × 7 columns</p>\n</div>"
     },
     "execution_count": 4,
     "metadata": {},
     "output_type": "execute_result"
    }
   ],
   "source": [
    "co2_primar_eg_lessons = l.get_timebuckets_for_timetable(\"Primarklasse_EG\", l.timetables['Primar_EG'])\n",
    "co2_primar_eg_lessons"
   ]
  },
  {
   "cell_type": "code",
   "execution_count": 5,
   "outputs": [
    {
     "data": {
      "text/plain": "                          ts  co2_mean  co2_mean_diff  co2_median  \\\n0  2022-04-25 07:35:00+02:00    529.76            NaN       523.0   \n1  2022-04-25 07:40:00+02:00    546.22          16.46       547.0   \n2  2022-04-25 07:45:00+02:00    535.00         -11.22       535.0   \n3  2022-04-25 07:50:00+02:00    559.46          24.46       546.0   \n4  2022-04-25 07:55:00+02:00    598.34          38.88       599.0   \n..                       ...       ...            ...         ...   \n4  2022-05-13 11:10:00+02:00    475.39         -35.56       477.0   \n5  2022-05-13 11:15:00+02:00    512.58          37.19       516.0   \n6  2022-05-13 11:20:00+02:00    743.86         231.28       775.0   \n7  2022-05-13 11:25:00+02:00    592.86        -151.00       594.0   \n8  2022-05-13 11:30:00+02:00    539.07         -53.79       538.0   \n\n    co2_median_diff  lesson_uuid  people  \n0               NaN            0      22  \n1              24.0            0      22  \n2             -12.0            0      22  \n3              11.0            0      22  \n4              53.0            0      22  \n..              ...          ...     ...  \n4             -43.0           88      11  \n5              39.0           88      11  \n6             259.0           88      11  \n7            -181.0           88      11  \n8             -56.0           88      11  \n\n[745 rows x 7 columns]",
      "text/html": "<div>\n<style scoped>\n    .dataframe tbody tr th:only-of-type {\n        vertical-align: middle;\n    }\n\n    .dataframe tbody tr th {\n        vertical-align: top;\n    }\n\n    .dataframe thead th {\n        text-align: right;\n    }\n</style>\n<table border=\"1\" class=\"dataframe\">\n  <thead>\n    <tr style=\"text-align: right;\">\n      <th></th>\n      <th>ts</th>\n      <th>co2_mean</th>\n      <th>co2_mean_diff</th>\n      <th>co2_median</th>\n      <th>co2_median_diff</th>\n      <th>lesson_uuid</th>\n      <th>people</th>\n    </tr>\n  </thead>\n  <tbody>\n    <tr>\n      <th>0</th>\n      <td>2022-04-25 07:35:00+02:00</td>\n      <td>529.76</td>\n      <td>NaN</td>\n      <td>523.0</td>\n      <td>NaN</td>\n      <td>0</td>\n      <td>22</td>\n    </tr>\n    <tr>\n      <th>1</th>\n      <td>2022-04-25 07:40:00+02:00</td>\n      <td>546.22</td>\n      <td>16.46</td>\n      <td>547.0</td>\n      <td>24.0</td>\n      <td>0</td>\n      <td>22</td>\n    </tr>\n    <tr>\n      <th>2</th>\n      <td>2022-04-25 07:45:00+02:00</td>\n      <td>535.00</td>\n      <td>-11.22</td>\n      <td>535.0</td>\n      <td>-12.0</td>\n      <td>0</td>\n      <td>22</td>\n    </tr>\n    <tr>\n      <th>3</th>\n      <td>2022-04-25 07:50:00+02:00</td>\n      <td>559.46</td>\n      <td>24.46</td>\n      <td>546.0</td>\n      <td>11.0</td>\n      <td>0</td>\n      <td>22</td>\n    </tr>\n    <tr>\n      <th>4</th>\n      <td>2022-04-25 07:55:00+02:00</td>\n      <td>598.34</td>\n      <td>38.88</td>\n      <td>599.0</td>\n      <td>53.0</td>\n      <td>0</td>\n      <td>22</td>\n    </tr>\n    <tr>\n      <th>...</th>\n      <td>...</td>\n      <td>...</td>\n      <td>...</td>\n      <td>...</td>\n      <td>...</td>\n      <td>...</td>\n      <td>...</td>\n    </tr>\n    <tr>\n      <th>4</th>\n      <td>2022-05-13 11:10:00+02:00</td>\n      <td>475.39</td>\n      <td>-35.56</td>\n      <td>477.0</td>\n      <td>-43.0</td>\n      <td>88</td>\n      <td>11</td>\n    </tr>\n    <tr>\n      <th>5</th>\n      <td>2022-05-13 11:15:00+02:00</td>\n      <td>512.58</td>\n      <td>37.19</td>\n      <td>516.0</td>\n      <td>39.0</td>\n      <td>88</td>\n      <td>11</td>\n    </tr>\n    <tr>\n      <th>6</th>\n      <td>2022-05-13 11:20:00+02:00</td>\n      <td>743.86</td>\n      <td>231.28</td>\n      <td>775.0</td>\n      <td>259.0</td>\n      <td>88</td>\n      <td>11</td>\n    </tr>\n    <tr>\n      <th>7</th>\n      <td>2022-05-13 11:25:00+02:00</td>\n      <td>592.86</td>\n      <td>-151.00</td>\n      <td>594.0</td>\n      <td>-181.0</td>\n      <td>88</td>\n      <td>11</td>\n    </tr>\n    <tr>\n      <th>8</th>\n      <td>2022-05-13 11:30:00+02:00</td>\n      <td>539.07</td>\n      <td>-53.79</td>\n      <td>538.0</td>\n      <td>-56.0</td>\n      <td>88</td>\n      <td>11</td>\n    </tr>\n  </tbody>\n</table>\n<p>745 rows × 7 columns</p>\n</div>"
     },
     "execution_count": 5,
     "metadata": {},
     "output_type": "execute_result"
    }
   ],
   "source": [
    "co2_primar_og1_lessons = l.get_timebuckets_for_timetable(\"Primarklasse_OG1\", l.timetables['Primar_OG1'])\n",
    "co2_primar_og1_lessons"
   ],
   "metadata": {
    "collapsed": false,
    "pycharm": {
     "name": "#%%\n"
    }
   }
  },
  {
   "cell_type": "markdown",
   "source": [
    "Dropping all lessons that have any decrease in CO2 level: We want to keep only the lessons when no kind of ventilation (windows, door) occurred"
   ],
   "metadata": {
    "collapsed": false
   }
  },
  {
   "cell_type": "code",
   "execution_count": 13,
   "metadata": {},
   "outputs": [],
   "source": [
    "def keep_non_vent_lessons(df):\n",
    "    # collect id's of lessons to drop\n",
    "    lessons_to_drop = []\n",
    "\n",
    "    for index, bucket in df.iterrows():\n",
    "      lesson_id = bucket['lesson_uuid']\n",
    "      co2_median_diff = bucket['co2_median_diff']\n",
    "\n",
    "      if co2_median_diff and float(bucket['co2_median_diff']) < 0:\n",
    "        if lesson_id not in lessons_to_drop:\n",
    "          lessons_to_drop.append(lesson_id)\n",
    "\n",
    "    # create new df only with lessons that had a steady CO2 increase\n",
    "    df_cleaned = df.copy()\n",
    "    for lesson in lessons_to_drop:\n",
    "        df_cleaned = df_cleaned.loc[~df_cleaned['lesson_uuid'].isin(lessons_to_drop)]\n",
    "\n",
    "    # reset index\n",
    "    df_cleaned = df_cleaned.reset_index()\n",
    "    return df_cleaned\n",
    "\n",
    "data_no_vent_lessons_eg = keep_non_vent_lessons(co2_primar_eg_lessons)\n",
    "data_no_vent_lessons_og1 = keep_non_vent_lessons(co2_primar_og1_lessons)"
   ]
  },
  {
   "cell_type": "markdown",
   "source": [
    "### Plots\n",
    "Plotting the distribution of the CO2 changes occurring when no ventilation is going on over whole lessons.\n",
    "\n",
    "#### Primar EG"
   ],
   "metadata": {
    "collapsed": false
   }
  },
  {
   "cell_type": "code",
   "execution_count": 14,
   "outputs": [
    {
     "data": {
      "text/plain": "{'whiskers': [<matplotlib.lines.Line2D at 0x7f83c91c6bb0>,\n  <matplotlib.lines.Line2D at 0x7f83c91c6e80>],\n 'caps': [<matplotlib.lines.Line2D at 0x7f83c91d4190>,\n  <matplotlib.lines.Line2D at 0x7f83c91d4460>],\n 'boxes': [<matplotlib.lines.Line2D at 0x7f83c91c68e0>],\n 'medians': [<matplotlib.lines.Line2D at 0x7f83c91d4730>],\n 'fliers': [<matplotlib.lines.Line2D at 0x7f83c91d4a00>],\n 'means': []}"
     },
     "execution_count": 14,
     "metadata": {},
     "output_type": "execute_result"
    },
    {
     "data": {
      "text/plain": "<Figure size 360x360 with 1 Axes>",
      "image/png": "[encoded data removed]"
     },
     "metadata": {
      "needs_background": "light"
     },
     "output_type": "display_data"
    },
    {
     "data": {
      "text/plain": "<Figure size 432x288 with 1 Axes>",
      "image/png": "[encoded data removed]"
     },
     "metadata": {
      "needs_background": "light"
     },
     "output_type": "display_data"
    }
   ],
   "source": [
    "# Distribution\n",
    "sns.displot(data = data_no_vent_lessons_eg, x = 'co2_median_diff', stat=\"density\", common_norm=False)\n",
    "\n",
    "# Boxplot\n",
    "fig1, ax1 = plt.subplots()\n",
    "ax1.set_title('Distribution of CO2 median diffs. to prev. 5 minute buckets in lessons')\n",
    "ax1.boxplot(data_no_vent_lessons_eg['co2_median_diff'].dropna())"
   ],
   "metadata": {
    "collapsed": false,
    "pycharm": {
     "name": "#%%\n"
    }
   }
  },
  {
   "cell_type": "markdown",
   "source": [
    "#### Primar OG1"
   ],
   "metadata": {
    "collapsed": false,
    "pycharm": {
     "name": "#%% md\n"
    }
   }
  },
  {
   "cell_type": "code",
   "execution_count": 11,
   "outputs": [
    {
     "data": {
      "text/plain": "{'whiskers': [<matplotlib.lines.Line2D at 0x7f83c8d01580>,\n  <matplotlib.lines.Line2D at 0x7f83c8d01850>],\n 'caps': [<matplotlib.lines.Line2D at 0x7f83c8d01b20>,\n  <matplotlib.lines.Line2D at 0x7f83c8d01df0>],\n 'boxes': [<matplotlib.lines.Line2D at 0x7f83c8d012b0>],\n 'medians': [<matplotlib.lines.Line2D at 0x7f83c8d0f100>],\n 'fliers': [<matplotlib.lines.Line2D at 0x7f83c8d0f3d0>],\n 'means': []}"
     },
     "execution_count": 11,
     "metadata": {},
     "output_type": "execute_result"
    },
    {
     "data": {
      "text/plain": "<Figure size 360x360 with 1 Axes>",
      "image/png": "[encoded data removed]"
     },
     "metadata": {
      "needs_background": "light"
     },
     "output_type": "display_data"
    },
    {
     "data": {
      "text/plain": "<Figure size 432x288 with 1 Axes>",
      "image/png": "[encoded data removed]"
     },
     "metadata": {
      "needs_background": "light"
     },
     "output_type": "display_data"
    }
   ],
   "source": [
    "sns.displot(data = data_no_vent_lessons_og1, x = 'co2_median_diff', stat=\"density\", common_norm=False)\n",
    "\n",
    "# Boxplot\n",
    "fig1, ax1 = plt.subplots()\n",
    "ax1.set_title('Distribution of CO2 median diffs. to prev. 5 minute buckets in lessons')\n",
    "ax1.boxplot(data_no_vent_lessons_og1['co2_median_diff'].dropna())"
   ],
   "metadata": {
    "collapsed": false,
    "pycharm": {
     "name": "#%%\n"
    }
   }
  },
  {
   "cell_type": "markdown",
   "source": [
    "### Overview\n",
    "Creating an overview of all the lessons without ventilation, and calculating their important properties.\n",
    "\n",
    "We choose to base our analysis on the median: The mean takes is disturbed by outliers (like people actively increasing the CO2 level by blowing at the sensor)"
   ],
   "metadata": {
    "collapsed": false
   }
  },
  {
   "cell_type": "markdown",
   "source": [
    "#### Primar EG"
   ],
   "metadata": {
    "collapsed": false
   }
  },
  {
   "cell_type": "code",
   "execution_count": 15,
   "outputs": [
    {
     "data": {
      "text/plain": "            co2_median                      co2_median_diff                   \\\n                   min     max         mean             min    max      mean   \nlesson_uuid                                                                    \n0                804.0  1165.0   971.300000            26.0  177.0   90.2500   \n5                870.0  1341.0  1106.200000            69.0  166.0  117.7500   \n7               1113.0  1777.0  1417.944444             5.0  154.0   83.0000   \n12              1133.0  1541.0  1330.700000            61.0  146.5  102.0000   \n16               615.0  1040.0   824.444444            20.0  124.0   53.1250   \n17              1218.0  1739.0  1489.600000            69.0  208.0  130.2500   \n27               600.0   868.0   751.666667            35.0   78.0   53.6000   \n28               959.0  1357.0  1099.000000             1.0  226.0   99.5000   \n29               927.0  2014.0  1518.222222            78.0  256.0  135.8750   \n37               895.0  1208.0  1044.722222            18.0   71.0   39.1250   \n47              1241.0  1536.5  1394.611111             1.0   96.5   36.9375   \n53               952.0  1281.0  1115.200000            10.0  174.0   82.2500   \n\n                                   ts                           people  \n                                  min                       max  first  \nlesson_uuid                                                             \n0           2022-04-25 07:35:00+02:00 2022-04-25 07:55:00+02:00     21  \n5           2022-04-26 07:35:00+02:00 2022-04-26 07:55:00+02:00     21  \n7           2022-04-26 08:55:00+02:00 2022-04-26 09:35:00+02:00     21  \n12          2022-04-27 07:35:00+02:00 2022-04-27 07:55:00+02:00     21  \n16          2022-04-27 10:50:00+02:00 2022-04-27 11:30:00+02:00     21  \n17          2022-04-28 07:35:00+02:00 2022-04-28 07:55:00+02:00     21  \n27          2022-04-29 10:00:00+02:00 2022-04-29 10:25:00+02:00     21  \n28          2022-05-02 07:35:00+02:00 2022-05-02 07:55:00+02:00     21  \n29          2022-05-02 08:05:00+02:00 2022-05-02 08:45:00+02:00     21  \n37          2022-05-03 13:30:00+02:00 2022-05-03 14:10:00+02:00     11  \n47          2022-05-05 08:55:00+02:00 2022-05-05 09:35:00+02:00     11  \n53          2022-05-06 07:35:00+02:00 2022-05-06 07:55:00+02:00     21  ",
      "text/html": "<div>\n<style scoped>\n    .dataframe tbody tr th:only-of-type {\n        vertical-align: middle;\n    }\n\n    .dataframe tbody tr th {\n        vertical-align: top;\n    }\n\n    .dataframe thead tr th {\n        text-align: left;\n    }\n\n    .dataframe thead tr:last-of-type th {\n        text-align: right;\n    }\n</style>\n<table border=\"1\" class=\"dataframe\">\n  <thead>\n    <tr>\n      <th></th>\n      <th colspan=\"3\" halign=\"left\">co2_median</th>\n      <th colspan=\"3\" halign=\"left\">co2_median_diff</th>\n      <th colspan=\"2\" halign=\"left\">ts</th>\n      <th>people</th>\n    </tr>\n    <tr>\n      <th></th>\n      <th>min</th>\n      <th>max</th>\n      <th>mean</th>\n      <th>min</th>\n      <th>max</th>\n      <th>mean</th>\n      <th>min</th>\n      <th>max</th>\n      <th>first</th>\n    </tr>\n    <tr>\n      <th>lesson_uuid</th>\n      <th></th>\n      <th></th>\n      <th></th>\n      <th></th>\n      <th></th>\n      <th></th>\n      <th></th>\n      <th></th>\n      <th></th>\n    </tr>\n  </thead>\n  <tbody>\n    <tr>\n      <th>0</th>\n      <td>804.0</td>\n      <td>1165.0</td>\n      <td>971.300000</td>\n      <td>26.0</td>\n      <td>177.0</td>\n      <td>90.2500</td>\n      <td>2022-04-25 07:35:00+02:00</td>\n      <td>2022-04-25 07:55:00+02:00</td>\n      <td>21</td>\n    </tr>\n    <tr>\n      <th>5</th>\n      <td>870.0</td>\n      <td>1341.0</td>\n      <td>1106.200000</td>\n      <td>69.0</td>\n      <td>166.0</td>\n      <td>117.7500</td>\n      <td>2022-04-26 07:35:00+02:00</td>\n      <td>2022-04-26 07:55:00+02:00</td>\n      <td>21</td>\n    </tr>\n    <tr>\n      <th>7</th>\n      <td>1113.0</td>\n      <td>1777.0</td>\n      <td>1417.944444</td>\n      <td>5.0</td>\n      <td>154.0</td>\n      <td>83.0000</td>\n      <td>2022-04-26 08:55:00+02:00</td>\n      <td>2022-04-26 09:35:00+02:00</td>\n      <td>21</td>\n    </tr>\n    <tr>\n      <th>12</th>\n      <td>1133.0</td>\n      <td>1541.0</td>\n      <td>1330.700000</td>\n      <td>61.0</td>\n      <td>146.5</td>\n      <td>102.0000</td>\n      <td>2022-04-27 07:35:00+02:00</td>\n      <td>2022-04-27 07:55:00+02:00</td>\n      <td>21</td>\n    </tr>\n    <tr>\n      <th>16</th>\n      <td>615.0</td>\n      <td>1040.0</td>\n      <td>824.444444</td>\n      <td>20.0</td>\n      <td>124.0</td>\n      <td>53.1250</td>\n      <td>2022-04-27 10:50:00+02:00</td>\n      <td>2022-04-27 11:30:00+02:00</td>\n      <td>21</td>\n    </tr>\n    <tr>\n      <th>17</th>\n      <td>1218.0</td>\n      <td>1739.0</td>\n      <td>1489.600000</td>\n      <td>69.0</td>\n      <td>208.0</td>\n      <td>130.2500</td>\n      <td>2022-04-28 07:35:00+02:00</td>\n      <td>2022-04-28 07:55:00+02:00</td>\n      <td>21</td>\n    </tr>\n    <tr>\n      <th>27</th>\n      <td>600.0</td>\n      <td>868.0</td>\n      <td>751.666667</td>\n      <td>35.0</td>\n      <td>78.0</td>\n      <td>53.6000</td>\n      <td>2022-04-29 10:00:00+02:00</td>\n      <td>2022-04-29 10:25:00+02:00</td>\n      <td>21</td>\n    </tr>\n    <tr>\n      <th>28</th>\n      <td>959.0</td>\n      <td>1357.0</td>\n      <td>1099.000000</td>\n      <td>1.0</td>\n      <td>226.0</td>\n      <td>99.5000</td>\n      <td>2022-05-02 07:35:00+02:00</td>\n      <td>2022-05-02 07:55:00+02:00</td>\n      <td>21</td>\n    </tr>\n    <tr>\n      <th>29</th>\n      <td>927.0</td>\n      <td>2014.0</td>\n      <td>1518.222222</td>\n      <td>78.0</td>\n      <td>256.0</td>\n      <td>135.8750</td>\n      <td>2022-05-02 08:05:00+02:00</td>\n      <td>2022-05-02 08:45:00+02:00</td>\n      <td>21</td>\n    </tr>\n    <tr>\n      <th>37</th>\n      <td>895.0</td>\n      <td>1208.0</td>\n      <td>1044.722222</td>\n      <td>18.0</td>\n      <td>71.0</td>\n      <td>39.1250</td>\n      <td>2022-05-03 13:30:00+02:00</td>\n      <td>2022-05-03 14:10:00+02:00</td>\n      <td>11</td>\n    </tr>\n    <tr>\n      <th>47</th>\n      <td>1241.0</td>\n      <td>1536.5</td>\n      <td>1394.611111</td>\n      <td>1.0</td>\n      <td>96.5</td>\n      <td>36.9375</td>\n      <td>2022-05-05 08:55:00+02:00</td>\n      <td>2022-05-05 09:35:00+02:00</td>\n      <td>11</td>\n    </tr>\n    <tr>\n      <th>53</th>\n      <td>952.0</td>\n      <td>1281.0</td>\n      <td>1115.200000</td>\n      <td>10.0</td>\n      <td>174.0</td>\n      <td>82.2500</td>\n      <td>2022-05-06 07:35:00+02:00</td>\n      <td>2022-05-06 07:55:00+02:00</td>\n      <td>21</td>\n    </tr>\n  </tbody>\n</table>\n</div>"
     },
     "execution_count": 15,
     "metadata": {},
     "output_type": "execute_result"
    }
   ],
   "source": [
    "overview_no_vent_lessons_eg = data_no_vent_lessons_eg.groupby(['lesson_uuid'])[['co2_median', 'co2_median_diff', 'ts', 'people']].agg(\n",
    "    {'co2_median': ['min', 'max', 'mean'], 'co2_median_diff': ['min', 'max', 'mean'], 'ts': ['min', 'max'], 'people': 'first'}).dropna()\n",
    "overview_no_vent_lessons_eg"
   ],
   "metadata": {
    "collapsed": false,
    "pycharm": {
     "name": "#%%\n"
    }
   }
  },
  {
   "cell_type": "markdown",
   "source": [
    "#### Primar OG1"
   ],
   "metadata": {
    "collapsed": false
   }
  },
  {
   "cell_type": "code",
   "execution_count": 16,
   "outputs": [
    {
     "data": {
      "text/plain": "            co2_median                      co2_median_diff                   \\\n                   min     max         mean             min    max      mean   \nlesson_uuid                                                                    \n6                545.5   954.0   756.900000            70.0  133.0  102.1250   \n14               581.0  1048.0   825.300000            74.5  137.0  116.7500   \n15              1251.0  1916.0  1583.333333            52.0  118.0   83.1250   \n25               497.0   509.0   502.400000             0.0    6.0    3.0000   \n34               501.0   929.0   769.333333            27.0  153.0   53.5000   \n35               579.0   845.0   739.666667            13.0   61.0   33.2500   \n36               696.0   902.0   808.500000            26.5  121.5   51.5000   \n37               638.0  1504.0  1151.555556            59.0  292.0  108.2500   \n41               651.0   942.0   832.166667             9.0   95.0   36.3750   \n48               532.0   586.0   570.300000             2.0   37.5   13.5000   \n65               575.0   636.0   600.200000             0.0   38.0   15.2500   \n72               682.0  1107.0   919.277778            34.5   78.0   53.1250   \n75               422.0   904.5   704.444444            11.5  163.0   60.3125   \n77               534.0   711.0   631.400000            27.0   62.0   44.2500   \n78               738.0   905.0   823.666667             3.0   43.0   20.8750   \n84               606.0   808.0   686.800000            17.0   93.0   50.5000   \n\n                                   ts                           people  \n                                  min                       max  first  \nlesson_uuid                                                             \n6           2022-04-26 07:35:00+02:00 2022-04-26 07:55:00+02:00     22  \n14          2022-04-27 07:35:00+02:00 2022-04-27 07:55:00+02:00     22  \n15          2022-04-27 08:05:00+02:00 2022-04-27 08:45:00+02:00     22  \n25          2022-04-29 07:35:00+02:00 2022-04-29 07:55:00+02:00     22  \n34          2022-05-02 14:20:00+02:00 2022-05-02 15:00:00+02:00     11  \n35          2022-05-02 15:20:00+02:00 2022-05-02 16:00:00+02:00     11  \n36          2022-05-03 07:35:00+02:00 2022-05-03 07:55:00+02:00     22  \n37          2022-05-03 08:05:00+02:00 2022-05-03 08:45:00+02:00     22  \n41          2022-05-03 13:30:00+02:00 2022-05-03 14:10:00+02:00     11  \n48          2022-05-05 07:35:00+02:00 2022-05-05 07:55:00+02:00     22  \n65          2022-05-10 07:35:00+02:00 2022-05-10 07:55:00+02:00     22  \n72          2022-05-10 15:20:00+02:00 2022-05-10 16:00:00+02:00     11  \n75          2022-05-11 10:00:00+02:00 2022-05-11 10:40:00+02:00     11  \n77          2022-05-12 07:35:00+02:00 2022-05-12 07:55:00+02:00     22  \n78          2022-05-12 08:05:00+02:00 2022-05-12 08:45:00+02:00     22  \n84          2022-05-13 07:35:00+02:00 2022-05-13 07:55:00+02:00     22  ",
      "text/html": "<div>\n<style scoped>\n    .dataframe tbody tr th:only-of-type {\n        vertical-align: middle;\n    }\n\n    .dataframe tbody tr th {\n        vertical-align: top;\n    }\n\n    .dataframe thead tr th {\n        text-align: left;\n    }\n\n    .dataframe thead tr:last-of-type th {\n        text-align: right;\n    }\n</style>\n<table border=\"1\" class=\"dataframe\">\n  <thead>\n    <tr>\n      <th></th>\n      <th colspan=\"3\" halign=\"left\">co2_median</th>\n      <th colspan=\"3\" halign=\"left\">co2_median_diff</th>\n      <th colspan=\"2\" halign=\"left\">ts</th>\n      <th>people</th>\n    </tr>\n    <tr>\n      <th></th>\n      <th>min</th>\n      <th>max</th>\n      <th>mean</th>\n      <th>min</th>\n      <th>max</th>\n      <th>mean</th>\n      <th>min</th>\n      <th>max</th>\n      <th>first</th>\n    </tr>\n    <tr>\n      <th>lesson_uuid</th>\n      <th></th>\n      <th></th>\n      <th></th>\n      <th></th>\n      <th></th>\n      <th></th>\n      <th></th>\n      <th></th>\n      <th></th>\n    </tr>\n  </thead>\n  <tbody>\n    <tr>\n      <th>6</th>\n      <td>545.5</td>\n      <td>954.0</td>\n      <td>756.900000</td>\n      <td>70.0</td>\n      <td>133.0</td>\n      <td>102.1250</td>\n      <td>2022-04-26 07:35:00+02:00</td>\n      <td>2022-04-26 07:55:00+02:00</td>\n      <td>22</td>\n    </tr>\n    <tr>\n      <th>14</th>\n      <td>581.0</td>\n      <td>1048.0</td>\n      <td>825.300000</td>\n      <td>74.5</td>\n      <td>137.0</td>\n      <td>116.7500</td>\n      <td>2022-04-27 07:35:00+02:00</td>\n      <td>2022-04-27 07:55:00+02:00</td>\n      <td>22</td>\n    </tr>\n    <tr>\n      <th>15</th>\n      <td>1251.0</td>\n      <td>1916.0</td>\n      <td>1583.333333</td>\n      <td>52.0</td>\n      <td>118.0</td>\n      <td>83.1250</td>\n      <td>2022-04-27 08:05:00+02:00</td>\n      <td>2022-04-27 08:45:00+02:00</td>\n      <td>22</td>\n    </tr>\n    <tr>\n      <th>25</th>\n      <td>497.0</td>\n      <td>509.0</td>\n      <td>502.400000</td>\n      <td>0.0</td>\n      <td>6.0</td>\n      <td>3.0000</td>\n      <td>2022-04-29 07:35:00+02:00</td>\n      <td>2022-04-29 07:55:00+02:00</td>\n      <td>22</td>\n    </tr>\n    <tr>\n      <th>34</th>\n      <td>501.0</td>\n      <td>929.0</td>\n      <td>769.333333</td>\n      <td>27.0</td>\n      <td>153.0</td>\n      <td>53.5000</td>\n      <td>2022-05-02 14:20:00+02:00</td>\n      <td>2022-05-02 15:00:00+02:00</td>\n      <td>11</td>\n    </tr>\n    <tr>\n      <th>35</th>\n      <td>579.0</td>\n      <td>845.0</td>\n      <td>739.666667</td>\n      <td>13.0</td>\n      <td>61.0</td>\n      <td>33.2500</td>\n      <td>2022-05-02 15:20:00+02:00</td>\n      <td>2022-05-02 16:00:00+02:00</td>\n      <td>11</td>\n    </tr>\n    <tr>\n      <th>36</th>\n      <td>696.0</td>\n      <td>902.0</td>\n      <td>808.500000</td>\n      <td>26.5</td>\n      <td>121.5</td>\n      <td>51.5000</td>\n      <td>2022-05-03 07:35:00+02:00</td>\n      <td>2022-05-03 07:55:00+02:00</td>\n      <td>22</td>\n    </tr>\n    <tr>\n      <th>37</th>\n      <td>638.0</td>\n      <td>1504.0</td>\n      <td>1151.555556</td>\n      <td>59.0</td>\n      <td>292.0</td>\n      <td>108.2500</td>\n      <td>2022-05-03 08:05:00+02:00</td>\n      <td>2022-05-03 08:45:00+02:00</td>\n      <td>22</td>\n    </tr>\n    <tr>\n      <th>41</th>\n      <td>651.0</td>\n      <td>942.0</td>\n      <td>832.166667</td>\n      <td>9.0</td>\n      <td>95.0</td>\n      <td>36.3750</td>\n      <td>2022-05-03 13:30:00+02:00</td>\n      <td>2022-05-03 14:10:00+02:00</td>\n      <td>11</td>\n    </tr>\n    <tr>\n      <th>48</th>\n      <td>532.0</td>\n      <td>586.0</td>\n      <td>570.300000</td>\n      <td>2.0</td>\n      <td>37.5</td>\n      <td>13.5000</td>\n      <td>2022-05-05 07:35:00+02:00</td>\n      <td>2022-05-05 07:55:00+02:00</td>\n      <td>22</td>\n    </tr>\n    <tr>\n      <th>65</th>\n      <td>575.0</td>\n      <td>636.0</td>\n      <td>600.200000</td>\n      <td>0.0</td>\n      <td>38.0</td>\n      <td>15.2500</td>\n      <td>2022-05-10 07:35:00+02:00</td>\n      <td>2022-05-10 07:55:00+02:00</td>\n      <td>22</td>\n    </tr>\n    <tr>\n      <th>72</th>\n      <td>682.0</td>\n      <td>1107.0</td>\n      <td>919.277778</td>\n      <td>34.5</td>\n      <td>78.0</td>\n      <td>53.1250</td>\n      <td>2022-05-10 15:20:00+02:00</td>\n      <td>2022-05-10 16:00:00+02:00</td>\n      <td>11</td>\n    </tr>\n    <tr>\n      <th>75</th>\n      <td>422.0</td>\n      <td>904.5</td>\n      <td>704.444444</td>\n      <td>11.5</td>\n      <td>163.0</td>\n      <td>60.3125</td>\n      <td>2022-05-11 10:00:00+02:00</td>\n      <td>2022-05-11 10:40:00+02:00</td>\n      <td>11</td>\n    </tr>\n    <tr>\n      <th>77</th>\n      <td>534.0</td>\n      <td>711.0</td>\n      <td>631.400000</td>\n      <td>27.0</td>\n      <td>62.0</td>\n      <td>44.2500</td>\n      <td>2022-05-12 07:35:00+02:00</td>\n      <td>2022-05-12 07:55:00+02:00</td>\n      <td>22</td>\n    </tr>\n    <tr>\n      <th>78</th>\n      <td>738.0</td>\n      <td>905.0</td>\n      <td>823.666667</td>\n      <td>3.0</td>\n      <td>43.0</td>\n      <td>20.8750</td>\n      <td>2022-05-12 08:05:00+02:00</td>\n      <td>2022-05-12 08:45:00+02:00</td>\n      <td>22</td>\n    </tr>\n    <tr>\n      <th>84</th>\n      <td>606.0</td>\n      <td>808.0</td>\n      <td>686.800000</td>\n      <td>17.0</td>\n      <td>93.0</td>\n      <td>50.5000</td>\n      <td>2022-05-13 07:35:00+02:00</td>\n      <td>2022-05-13 07:55:00+02:00</td>\n      <td>22</td>\n    </tr>\n  </tbody>\n</table>\n</div>"
     },
     "execution_count": 16,
     "metadata": {},
     "output_type": "execute_result"
    }
   ],
   "source": [
    "overview_no_vent_lessons_og1 = data_no_vent_lessons_og1.groupby(['lesson_uuid'])[['co2_median', 'co2_median_diff', 'ts', 'people']].agg(\n",
    "    {'co2_median': ['min', 'max', 'mean'], 'co2_median_diff': ['min', 'max', 'mean'], 'ts': ['min', 'max'], 'people': 'first'}).dropna()\n",
    "overview_no_vent_lessons_og1"
   ],
   "metadata": {
    "collapsed": false,
    "pycharm": {
     "name": "#%%\n"
    }
   }
  },
  {
   "cell_type": "markdown",
   "source": [
    "## Analyzing the effect of people in the classrooms on the CO2 level\n",
    "Having collected the CO2 emission data for the classrooms, the lessons from the timetable, the number of people per lesson, the volume of each classroom, and looking only at data of lessons where no ventilation was done, we can **estimate** the **amount of CO2 a person emits per minute**.\n",
    "\n",
    "The resulting value tells us how many milligrams of CO2 a person emits in a minute, for measurements in that specific classroom.\n",
    "\n",
    "Information on CO2 conversion from ppm to mg/m3:\n",
    "Source for conversion: https://teesing.com/en/library/tools/ppm-mg3-converter#mgm3-ppm"
   ],
   "metadata": {
    "collapsed": false
   }
  },
  {
   "cell_type": "markdown",
   "source": [
    "### Derived Formula\n",
    "\n",
    "$ r $ = CO2 emission each minute in mg/person based on the classroom\n",
    "\n",
    "$ C $ = mean mg/m3 CO2 emitted over 5 minutes during lessons in the classroom\n",
    "$ V $ = volume of the classroom in m3\n",
    "$ P $ = number of persons in the classroom\n",
    "\n",
    "This makes the follwing formula:\n"
   ],
   "metadata": {
    "collapsed": false
   }
  },
  {
   "cell_type": "markdown",
   "source": [
    "\\begin{displaymath}\n",
    "r = \\frac {C}{\\frac {P}{V}} = \\frac {C * V}{P} (units: \\frac {mg/m^3 * m^3}{person})\n",
    "\\end{displaymath}\n"
   ],
   "metadata": {
    "collapsed": false
   }
  },
  {
   "cell_type": "markdown",
   "source": [
    "### Implementing the Formula"
   ],
   "metadata": {
    "collapsed": false
   }
  },
  {
   "cell_type": "code",
   "execution_count": 52,
   "outputs": [],
   "source": [
    "def calc_co2_emission(df, room_volume_m3):\n",
    "    # considering room volume in m3, calculate the emissions in mg/m3 of each person in the room per minute (1 ppm CO2 = 1.8 mg/m3)\n",
    "    df['mean_co2_emission_mg_m3_in_5min'] = df['co2_median_diff']['mean'] * 1.8\n",
    "\n",
    "    # divide means from buckets of 5 min to get value for 1 min\n",
    "    df['mean_co2_emission_mg_per_m3_in_1min'] = df['mean_co2_emission_mg_m3_in_5min'] / 5\n",
    "\n",
    "    # calculate value per person considering room size --> unit m3 falls away\n",
    "    df['mean_co2_emission_mg_m3_per_min_per_person'] = df['mean_co2_emission_mg_per_m3_in_1min'] / (df['people']['first'] / room_volume_m3)\n",
    "    df['mean_co2_emission_mg_per_person_in_1min'] = (df['mean_co2_emission_mg_per_m3_in_1min'] * room_volume_m3) / df['people']['first']\n",
    "\n",
    "    # find the mean over all lessons in this classroom\n",
    "    mean_co2_emission_mg_per_person_in_1min_in_classroom = df['mean_co2_emission_mg_per_person_in_1min'].mean()\n",
    "\n",
    "    print('CO2 emission each minute in mg/person based on this classroom:', mean_co2_emission_mg_per_person_in_1min_in_classroom, 'mg/person')\n",
    "\n",
    "    return df, mean_co2_emission_mg_per_person_in_1min_in_classroom"
   ],
   "metadata": {
    "collapsed": false,
    "pycharm": {
     "name": "#%%\n"
    }
   }
  },
  {
   "cell_type": "code",
   "execution_count": 53,
   "outputs": [
    {
     "name": "stdout",
     "output_type": "stream",
     "text": [
      "CO2 emission in a minute in mg/person based on this classroom: 328.4675311688312 mg/person\n",
      "CO2 emission in a minute in mg/person based on this classroom: 358.0648721590909 mg/person\n"
     ]
    }
   ],
   "source": [
    "# Classroom EG, Room Volume: 210.4 m^3\n",
    "result_no_vent_lessons_eg, result_eg = calc_co2_emission(overview_no_vent_lessons_eg, 210.4)\n",
    "\n",
    "# Classroom OG1, Room Volume: 323.5 m^3\n",
    "result_no_vent_lessons_og1, result_og = calc_co2_emission(overview_no_vent_lessons_og1, 323.5)"
   ],
   "metadata": {
    "collapsed": false,
    "pycharm": {
     "name": "#%%\n"
    }
   }
  },
  {
   "cell_type": "markdown",
   "source": [
    "### Calculating CO2/person for a \"general\" classroom"
   ],
   "metadata": {
    "collapsed": false
   }
  },
  {
   "cell_type": "code",
   "execution_count": 66,
   "outputs": [
    {
     "name": "stdout",
     "output_type": "stream",
     "text": [
      "CO2 emission in a minute in any classroom: 345.3802974489796 mg/person\n"
     ]
    }
   ],
   "source": [
    "result_no_vent_lessons_general = pd.concat([result_no_vent_lessons_eg, result_no_vent_lessons_og1])\n",
    "\n",
    "# CO2 emission in a minute in mg/person in any classroom\n",
    "r = result_no_vent_lessons_general['mean_co2_emission_mg_per_person_in_1min'].mean()\n",
    "print('CO2 emission in a minute in any classroom:', r, 'mg/person')"
   ],
   "metadata": {
    "collapsed": false,
    "pycharm": {
     "name": "#%%\n"
    }
   }
  },
  {
   "cell_type": "markdown",
   "source": [
    "### Predicting when a classroom reaches critical CO2 ppm based on volume and class size"
   ],
   "metadata": {
    "collapsed": false,
    "pycharm": {
     "name": "#%% md\n"
    }
   }
  },
  {
   "cell_type": "markdown",
   "source": [
    "\\begin{displaymath}\n",
    "r = \\frac {C * V}{t * P} (units: \\frac {mg/m^3 * m^3}{minutes * person})\n",
    "\\end{displaymath}"
   ],
   "metadata": {
    "collapsed": false
   }
  },
  {
   "cell_type": "markdown",
   "source": [
    "Transformed for prediction of C:\n",
    "\n",
    "\\begin{displaymath}\n",
    "C = \\frac {r * t * P}{V} (units: mg/m3 = \\frac {mg/person * minutes * persons}{m^3})\n",
    "\\end{displaymath}"
   ],
   "metadata": {
    "collapsed": false
   }
  },
  {
   "cell_type": "code",
   "execution_count": 69,
   "outputs": [
    {
     "name": "stdout",
     "output_type": "stream",
     "text": [
      "mg/m3 of CO2 produced: 6424.07353255102  ppm increase: 3568.9297403061223\n"
     ]
    }
   ],
   "source": [
    "room_volume = 100 # m3\n",
    "persons = 31 # persons in class\n",
    "timeframe = 60 # after 60 minutes\n",
    "\n",
    "C_mg_m3 = (r * timeframe * persons) / room_volume\n",
    "C_ppm = C_mg_m3 / 1.8\n",
    "\n",
    "print(\"mg/m3 of CO2 produced:\", C_mg_m3, \" ppm increase:\", C_ppm)"
   ],
   "metadata": {
    "collapsed": false,
    "pycharm": {
     "name": "#%%\n"
    }
   }
  },
  {
   "cell_type": "code",
   "execution_count": null,
   "outputs": [],
   "source": [],
   "metadata": {
    "collapsed": false,
    "pycharm": {
     "name": "#%%\n"
    }
   }
  }
 ],
 "metadata": {
  "interpreter": {
   "hash": "730211dcc5f22378caf258b929d82b7a4efcecbfd3d08d4461db78fead0fddb0"
  },
  "kernelspec": {
   "name": "python3",
   "language": "python",
   "display_name": "Python 3 (ipykernel)"
  },
  "language_info": {
   "codemirror_mode": {
    "name": "ipython",
    "version": 3
   },
   "file_extension": ".py",
   "mimetype": "text/x-python",
   "name": "python",
   "nbconvert_exporter": "python",
   "pygments_lexer": "ipython3",
   "version": "3.8.12"
  },
  "orig_nbformat": 4,
  "vscode": {
   "interpreter": {
    "hash": "f46e390ebb1ddf5491fd89d9ad6ad07bce30ede12b9a11821d34b748251f6923"
   }
  }
 },
 "nbformat": 4,
 "nbformat_minor": 2
}