{
 "cells": [
  {
   "cell_type": "markdown",
   "metadata": {},
   "source": [
    "### Setup"
   ]
  },
  {
   "cell_type": "code",
   "execution_count": 1,
   "metadata": {},
   "outputs": [],
   "source": [
    "import lib\n",
    "\n",
    "l = lib.Offload()"
   ]
  },
  {
   "cell_type": "markdown",
   "id": "499eeb78",
   "metadata": {},
   "source": [
    "### Welche Erkenntnisse von Dritten können Sie allenfalls bestätigen/widerlegen?"
   ]
  },
  {
   "cell_type": "markdown",
   "id": "de175c4f",
   "metadata": {},
   "source": [
    "--- Markdown ---"
   ]
  },
  {
   "cell_type": "code",
   "execution_count": null,
   "id": "9eb149e8",
   "metadata": {},
   "outputs": [],
   "source": []
  }
 ],
 "metadata": {
  "kernelspec": {
   "display_name": "Python 3.9.7 ('base')",
   "language": "python",
   "name": "python3"
  },
  "language_info": {
   "codemirror_mode": {
    "name": "ipython",
    "version": 3
   },
   "file_extension": ".py",
   "mimetype": "text/x-python",
   "name": "python",
   "nbconvert_exporter": "python",
   "pygments_lexer": "ipython3",
   "version": "3.9.7"
  },
  "orig_nbformat": 4,
  "vscode": {
   "interpreter": {
    "hash": "f46e390ebb1ddf5491fd89d9ad6ad07bce30ede12b9a11821d34b748251f6923"
   }
  }
 },
 "nbformat": 4,
 "nbformat_minor": 2
}
